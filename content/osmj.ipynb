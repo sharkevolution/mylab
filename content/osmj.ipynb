{
  "metadata": {
    "kernelspec": {
      "name": "python",
      "display_name": "Python (Pyodide)",
      "language": "python"
    },
    "language_info": {
      "codemirror_mode": {
        "name": "python",
        "version": 3
      },
      "file_extension": ".py",
      "mimetype": "text/x-python",
      "name": "python",
      "nbconvert_exporter": "python",
      "pygments_lexer": "ipython3",
      "version": "3.8"
    }
  },
  "nbformat_minor": 5,
  "nbformat": 4,
  "cells": [
    {
      "cell_type": "markdown",
      "source": "<h1 style=\"font-family:Times New Roman;\">Поиск населенных пунктов по части названия в OpenStreerMap</h1>\n\n*Nikolay Sitala 2023, nsitala@ukr.net* \n>Данные по материалам сайта https://ua.transportica.com",
      "metadata": {},
      "id": "89408aa3-3aaa-4954-85f1-32b7c3b00477"
    },
    {
      "cell_type": "code",
      "source": "%pip install -q ipywidgets\n\nimport ipywidgets as widgets\ntext_ = widgets.Text(\n    value='Киев',\n    placeholder='Type something',\n    description='Поиск подстроки:',\n    disabled=False,\n    layout = widgets.Layout(width='300px'),\n    style={'description_width': 'initial'}\n)\ndisplay(text_)",
      "metadata": {
        "trusted": true
      },
      "execution_count": null,
      "outputs": [],
      "id": "60247556-2854-4833-bee8-8e1b7b77487d"
    },
    {
      "cell_type": "markdown",
      "source": "<h2 style=\"font-family: 'Times New Roman'\">Скрипт поиска</h2>",
      "metadata": {},
      "id": "8e80e573-28a3-49f9-acbf-e6b5e7ae1ea5"
    },
    {
      "cell_type": "code",
      "source": "%pip install -q panel\n\nimport pandas as pd\nimport panel as pn\nimport json\n\nfrom js import WebSocket, console\nfrom pyodide.ffi.wrappers import add_event_listener\n\npn.extension('perspective')\n\npayload = {\"lang\": \"ua\", \"text\": text_.value, \"country\": \"UA\", \"event\": \"completeCity\", \"requestNumber\": 1}\ndata = json.dumps(payload)\n\n\ndef send(*args):\n    socket.send(data)\n\ndef message(event):\n    js = json.loads(event.data)\n    \n    p = [[], [], [], [], [], [], []]\n\n    for b in js['data']['result']:\n        p[0].append(b['osmId'])\n        p[1].append(b['name'])\n        p[2].append(b['state'])\n        p[3].append(b['lat'])\n        p[4].append(b['lon'])\n        p[5].append(b['city'])\n        \n        admin_level = b['hierarchy']\n        if len(admin_level) > 1: \n            p[6].append(admin_level[1]['default'])\n        else:\n            p[6].append(None)\n        \n    data_ = {'osmId': p[0], 'city': p[5], 'level': p[6], 'name': p[1], 'state': p[2], 'lat': p[3], 'lon': p[4]}\n    fr = pd.DataFrame.from_dict(data_)\n    print(\"ok\")\n    display(pn.pane.Perspective(fr, width=1000, height=600))\n\nsocket = WebSocket.new(\"wss://complete.transportica.com:443\")\nadd_event_listener(socket, 'open', send)\nadd_event_listener(socket, 'message', message)",
      "metadata": {
        "trusted": true
      },
      "execution_count": null,
      "outputs": [],
      "id": "cf9886a5-a421-4c54-844b-f08dfa12a7af"
    },
    {
      "cell_type": "code",
      "source": "",
      "metadata": {},
      "execution_count": null,
      "outputs": [],
      "id": "4ccf5e1e-8b7c-49c0-b445-cb34167ba271"
    }
  ]
}
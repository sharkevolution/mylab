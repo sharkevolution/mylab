{
  "metadata": {
    "interpreter": {
      "hash": "213e3cdfa7e49a72da46e33368d188e831bf06b855f4b34975d8e787861861ab"
    },
    "metadata": {
      "interpreter": {
        "hash": "213e3cdfa7e49a72da46e33368d188e831bf06b855f4b34975d8e787861861ab"
      }
    },
    "toc": {
      "base_numbering": 1,
      "nav_menu": {},
      "number_sections": true,
      "sideBar": true,
      "skip_h1_title": false,
      "title_cell": "Table of Contents",
      "title_sidebar": "Contents",
      "toc_cell": false,
      "toc_position": {
        "height": "calc(100% - 180px)",
        "left": "10px",
        "top": "150px",
        "width": "310px"
      },
      "toc_section_display": true,
      "toc_window_display": true
    },
    "kernelspec": {
      "name": "python",
      "display_name": "Python (Pyodide)",
      "language": "python"
    },
    "language_info": {
      "codemirror_mode": {
        "name": "python",
        "version": 3
      },
      "file_extension": ".py",
      "mimetype": "text/x-python",
      "name": "python",
      "nbconvert_exporter": "python",
      "pygments_lexer": "ipython3",
      "version": "3.8"
    }
  },
  "nbformat_minor": 5,
  "nbformat": 4,
  "cells": [
    {
      "cell_type": "markdown",
      "source": "<h1 style=\"font-family:Times New Roman;\">Расчет матрицы расстояний</h1>\n\n*Nikolay Sitala 2021, nsitala@ukr.net* \n>http://map.project-osrm.org",
      "metadata": {},
      "id": "1b89eaae"
    },
    {
      "cell_type": "markdown",
      "source": "<h3 style=\"font-family:Times New Roman;color:gray\">Пример файла Excel .xlsx с координатами</h3>",
      "metadata": {
        "tags": []
      },
      "id": "874e0be2"
    },
    {
      "cell_type": "code",
      "source": "try:\n    import piplite\n    await piplite.install(['ipywidgets==8', 'openpyxl', 'pandas', 'requests', 'tqdm', 'ssl'])\nexcept ImportError:\n    pass\n\nimport doexample\ndoexample.start(\"resources/xlsx_coords.test\", \"coord_example.xlsx\")",
      "metadata": {
        "tags": [],
        "trusted": true
      },
      "execution_count": 1,
      "outputs": [
        {
          "execution_count": 1,
          "output_type": "execute_result",
          "data": {
            "text/plain": "<IPython.core.display.HTML object>",
            "text/html": "<a download=\"coord_example.xlsx\" href=\"data:text/xml;base64,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\" target=\"_blank\">Скачайте пример с адресами Excel file</a>"
          },
          "metadata": {}
        }
      ],
      "id": "7063406e"
    },
    {
      "cell_type": "markdown",
      "source": "<h2 style=\"font-family:Times New Roman;\">Загрузите файл .xlsx c координатами</h2>",
      "metadata": {},
      "id": "43cd27d0"
    },
    {
      "cell_type": "code",
      "source": "import ipywidgets as widgets\n\nuploader = widgets.FileUpload(\n    accept='.xlsx',  # Accepted file extension e.g. '.txt', '.pdf', 'image/*', 'image/*,.pdf'\n    multiple=False  # True to accept multiple files upload else False\n)\nflag_upload = 'xlsx'\nuploader = widgets.FileUpload()\ndisplay(uploader)",
      "metadata": {
        "code_folding": [
          2
        ],
        "tags": [],
        "trusted": true
      },
      "execution_count": 2,
      "outputs": [
        {
          "output_type": "display_data",
          "data": {
            "text/plain": "FileUpload(value=(), description='Upload')",
            "application/vnd.jupyter.widget-view+json": {
              "version_major": 2,
              "version_minor": 0,
              "model_id": "3eb2fd32ccbe4e24ae59aa42b2a5b953"
            }
          },
          "metadata": {}
        }
      ],
      "id": "83f0855d"
    },
    {
      "cell_type": "markdown",
      "source": "<h3 style=\"font-family: 'Times New Roman'\">Предпросмотр .xlsx с координатами</h3>",
      "metadata": {},
      "id": "e0a76f9f"
    },
    {
      "cell_type": "code",
      "source": "import io\nimport openpyxl\nfrom pandas import ExcelFile\n\nuploaded_file = uploader.value[0]\nprint(uploaded_file.name)\nexcel_data = ExcelFile(io.BytesIO(uploaded_file.content.tobytes()), engine='openpyxl')\ndataframe = excel_data.parse(excel_data.sheet_names[0])\ndataframe",
      "metadata": {
        "tags": [],
        "trusted": true
      },
      "execution_count": 3,
      "outputs": [
        {
          "name": "stdout",
          "text": "coord_example.xlsx\n",
          "output_type": "stream"
        },
        {
          "execution_count": 3,
          "output_type": "execute_result",
          "data": {
            "text/plain": "                      location   latitude  lontitude\n0       Жерноклевы, ЧЕРКАССКАЯ  49.969062  31.935005\n1        Зарубинцы, ЧЕРКАССКАЯ  49.126683  29.955307\n2     Звенигородка, ЧЕРКАССКАЯ  49.070364  30.968338\n3  Здобуток Жовтня, ЧЕРКАССКАЯ  48.868504  30.749146\n4       Золотоноша, ЧЕРКАССКАЯ  49.669020  32.042598\n5           Ирдынь, ЧЕРКАССКАЯ  49.367147  31.677246\n6          Ирклиев, ЧЕРКАССКАЯ  49.518256  32.338096\n7       Кайтановка, ЧЕРКАССКАЯ  48.891665  31.082583\n8            Канев, ЧЕРКАССКАЯ  49.749587  31.459825",
            "text/html": "<div>\n<style scoped>\n    .dataframe tbody tr th:only-of-type {\n        vertical-align: middle;\n    }\n\n    .dataframe tbody tr th {\n        vertical-align: top;\n    }\n\n    .dataframe thead th {\n        text-align: right;\n    }\n</style>\n<table border=\"1\" class=\"dataframe\">\n  <thead>\n    <tr style=\"text-align: right;\">\n      <th></th>\n      <th>location</th>\n      <th>latitude</th>\n      <th>lontitude</th>\n    </tr>\n  </thead>\n  <tbody>\n    <tr>\n      <th>0</th>\n      <td>Жерноклевы, ЧЕРКАССКАЯ</td>\n      <td>49.969062</td>\n      <td>31.935005</td>\n    </tr>\n    <tr>\n      <th>1</th>\n      <td>Зарубинцы, ЧЕРКАССКАЯ</td>\n      <td>49.126683</td>\n      <td>29.955307</td>\n    </tr>\n    <tr>\n      <th>2</th>\n      <td>Звенигородка, ЧЕРКАССКАЯ</td>\n      <td>49.070364</td>\n      <td>30.968338</td>\n    </tr>\n    <tr>\n      <th>3</th>\n      <td>Здобуток Жовтня, ЧЕРКАССКАЯ</td>\n      <td>48.868504</td>\n      <td>30.749146</td>\n    </tr>\n    <tr>\n      <th>4</th>\n      <td>Золотоноша, ЧЕРКАССКАЯ</td>\n      <td>49.669020</td>\n      <td>32.042598</td>\n    </tr>\n    <tr>\n      <th>5</th>\n      <td>Ирдынь, ЧЕРКАССКАЯ</td>\n      <td>49.367147</td>\n      <td>31.677246</td>\n    </tr>\n    <tr>\n      <th>6</th>\n      <td>Ирклиев, ЧЕРКАССКАЯ</td>\n      <td>49.518256</td>\n      <td>32.338096</td>\n    </tr>\n    <tr>\n      <th>7</th>\n      <td>Кайтановка, ЧЕРКАССКАЯ</td>\n      <td>48.891665</td>\n      <td>31.082583</td>\n    </tr>\n    <tr>\n      <th>8</th>\n      <td>Канев, ЧЕРКАССКАЯ</td>\n      <td>49.749587</td>\n      <td>31.459825</td>\n    </tr>\n  </tbody>\n</table>\n</div>"
          },
          "metadata": {}
        }
      ],
      "id": "d3e92a1f"
    },
    {
      "cell_type": "markdown",
      "source": "<h3 style=\"font-family:Times New Roman;color:gray\">Пример файла CSV с координатами</h3>",
      "metadata": {},
      "id": "f9fe4491"
    },
    {
      "cell_type": "code",
      "source": "import io\nimport pandas as pd\nimport base64\nfrom IPython.display import FileLink\nfrom ipywidgets import HTML\n\ndef create_download_link(df, title = \"Скачать пример в CSV file \", filename = \"data.csv\"):  \n    csv = df.to_csv(sep=';', encoding='utf-8-sig', index=False)\n    b64 = base64.b64encode(csv.encode('utf-8-sig'))\n    payload = b64.decode()\n    html = '<a download=\"{filename}\" href=\"data:text/csv;base64,{payload}\" target=\"_blank\">{title}</a>'\n    html = html.format(payload=payload,title=title,filename=filename)\n    return HTML(html)\n\ncsv_data = pd.read_csv(\"resources/csv_coords.test\", delimiter=';', encoding ='utf-8')\ncreate_download_link(csv_data)",
      "metadata": {
        "code_folding": [
          6
        ]
      },
      "execution_count": null,
      "outputs": [],
      "id": "2062213d"
    },
    {
      "cell_type": "markdown",
      "source": "<h2 style=\"font-family:Times New Roman;color:gray\">Загрузите файл формат CSV c координатами</h2>",
      "metadata": {},
      "id": "17512a58"
    },
    {
      "cell_type": "code",
      "source": "import ipywidgets as widgets\n\nuploader = widgets.FileUpload(\n    accept='.xlsx',  # Accepted file extension e.g. '.txt', '.pdf', 'image/*', 'image/*,.pdf'\n    multiple=False  # True to accept multiple files upload else False\n)\nflag_upload = 'csv'\nuploader = widgets.FileUpload()\ndisplay(uploader)",
      "metadata": {
        "code_folding": [
          2
        ]
      },
      "execution_count": null,
      "outputs": [],
      "id": "f99e4898"
    },
    {
      "cell_type": "markdown",
      "source": "<h3 style=\"font-family:Times New Roman;color:gray\">Предпросмотр CSV с координатами</h3>",
      "metadata": {},
      "id": "5343d43b"
    },
    {
      "cell_type": "code",
      "source": "import io\nimport openpyxl\nfrom pandas import ExcelFile\nimport pandas as pd\n\nuploaded_file = uploader.value[0]\nprint(uploaded_file.name)\ncsv_data = pd.read_csv(io.BytesIO(uploaded_file.content.tobytes()), delimiter=';', encoding ='utf-8')\ncsv_data",
      "metadata": {},
      "execution_count": null,
      "outputs": [],
      "id": "f493c478"
    },
    {
      "cell_type": "markdown",
      "source": "[Как преобразовать файлы Excel в формат CSV](https://office-guru.ru/excel/kak-preobrazovat-excel-v-csv-i-eksportirovat-faily-excel-v-format-csv-utf-8-456.html#2>)",
      "metadata": {},
      "id": "391463bc"
    },
    {
      "cell_type": "markdown",
      "source": "<h2 style=\"font-family: 'Times New Roman';color:blue\">Cкрипт создания матрицы расстояний</h2>",
      "metadata": {},
      "id": "6477c8d6"
    },
    {
      "cell_type": "code",
      "source": "trip = widgets.Dropdown(\n    options=[('Авто', 1), ('Байк', 2), ('Пешком', 3), ('Euclidian', 4)],\n    value=4,\n    description='Выберите из списка:',\n)\ntrip",
      "metadata": {
        "code_folding": [],
        "tags": [],
        "trusted": true
      },
      "execution_count": 4,
      "outputs": [
        {
          "execution_count": 4,
          "output_type": "execute_result",
          "data": {
            "text/plain": "Dropdown(description='Выберите из списка:', index=3, options=(('Авто', 1), ('Байк', 2), ('Пешком', 3), ('Eucli…",
            "application/vnd.jupyter.widget-view+json": {
              "version_major": 2,
              "version_minor": 0,
              "model_id": "1a537100e6684cac85f01cdbe646faab"
            }
          },
          "metadata": {}
        }
      ],
      "id": "7a8967d5"
    },
    {
      "cell_type": "markdown",
      "source": "<h2 style=\"font-family: 'Times New Roman';color:blue\">Ограничение по количеству расчетов</h2>",
      "metadata": {},
      "id": "1eaa8a24"
    },
    {
      "cell_type": "code",
      "source": "calc_limit = widgets.IntText(\n    value=0,\n    description='Число:',\n    disabled=False\n)\ncalc_limit",
      "metadata": {
        "tags": [],
        "trusted": true
      },
      "execution_count": 5,
      "outputs": [
        {
          "execution_count": 5,
          "output_type": "execute_result",
          "data": {
            "text/plain": "IntText(value=0, description='Число:')",
            "application/vnd.jupyter.widget-view+json": {
              "version_major": 2,
              "version_minor": 0,
              "model_id": "ea7ffbb7f1794097ae582e9c8b4c3bf1"
            }
          },
          "metadata": {}
        }
      ],
      "id": "a06e5d2f"
    },
    {
      "cell_type": "code",
      "source": "## http://map.project-osrm.org/\n%pip install -q ssl\n\nimport os\nimport time\nimport json\nimport pprint\nimport requests\n\nfrom openpyxl import Workbook, load_workbook\nfrom openpyxl.worksheet import worksheet\n# from tqdm import tqdm\n\nimport pandas as pd\nfrom pandas import DataFrame\n\nimport wgsdistance\n\n\nimport json\nfrom pyodide import to_js\nfrom IPython.display import JSON\nfrom js import Object, fetch\n\n\nwb = Workbook()\n\nglobal trip\nglobal calc_limit\n\ntype_driving = \"routed-car\"\n\nif trip.value == 1:\n    type_driving = \"routed-car\"\nelif trip.value == 2:\n    type_driving = \"routed-bike\"\nelif trip.value == 3:\n    type_driving = \"routed-foot\"\nelif trip.value == 4:\n    type_driving = \"routed-euclidian\"\n\nasync def get_distance_osrm(coordinates, coord_list):\n\n    global type_driving\n    \n    # coordinates = '30.613808,46.471085;29.234447,47.997272'\n    # r1 = f'http://router.project-osrm.org/route/v1/{type_driving}/{coordinates}?overview=false'\n    r1 = f'https://routing.openstreetmap.de/{type_driving}/route/v1/driving/{coordinates}?overview=false&alternatives=true&steps=false'\n    \n    i = 8\n    \n    while i > 0:\n        r1 = f'https://routing.openstreetmap.de/{type_driving}/route/v1/driving/{coordinates}?overview=false&alternatives=true&steps=false'\n        resp = await fetch(r1, method=\"GET\", headers=Object.fromEntries(to_js({ \"Content-Type\": \"application/json\" })),)\n        x = resp.headers.get('Cache-Control')\n        if x == 'max-age=0':\n            break\n        else:\n            break\n            i -= 1\n            time.sleep(10)\n            \n    res = await resp.text()\n    res_json = json.loads(res)\n    \n    return res_json, r1\n\n\ndef import_data_excel():\n    \n    global excel_data\n    \n    # wb1 = load_workbook(io.BytesIO(uploader.data[-1]))\n    wb1 = load_workbook(io.BytesIO(uploaded_file.content))\n    \n    sheets_list = wb1.sheetnames\n    wsdata = wb1[sheets_list[0]]\n    \n    use_min_row = 2\n    use_min_col = 1\n    use_max_col = 3\n    use_max_row = wsdata.max_row\n    \n    row_fields = worksheet.Worksheet.iter_rows(wsdata, min_row=use_min_row,\n                                               max_row=use_max_row,\n                                               min_col=use_min_col,\n                                               max_col=use_max_col)\n    for b in row_fields:\n        yield b\n\n\ndef get_data_matrix_excel():\n\n    coords_pull = []\n    matrix_out = []\n    j = 0\n    \n    for z4 in import_data_excel():\n        z4_list = []\n        for i, u in enumerate(z4):\n            if not u.value is None:\n                z4_list.append(u.value)\n\n        z4_list = [u.value for u in z4[:] if not u.value is None]\n        if z4_list:\n            j += 1\n            coords_pull.append([j, z4_list[0], z4_list[1], z4_list[2]])\n\n    first_list = coords_pull\n    matrix_out = []\n\n    while first_list:\n        s = first_list.pop(0)\n        matrix_out.extend([[s, b] for b in [h for h in first_list]])\n    return matrix_out\n\n\ndef import_data_csv():\n    \n    global csv_data\n    \n    locate = list(csv_data['location'])\n    lat = list(csv_data['latitude'])\n    lon = list(csv_data['lontitude'])\n    \n    for b in zip(locate, lat, lon):\n        yield(b)\n\n\n# def get_progress(mtx):\n#     for i in tqdm(range(mtx)):\n#         yield 0\n        \n        \ndef get_data_matrix():\n\n    global flag_upload\n    \n    if flag_upload == 'csv':\n        print('Источник данных .csv')\n        j = 0\n        coords_pull = []\n        matrix_out = []\n\n        for z in import_data_csv():\n            j += 1\n            coords_pull.append([j, z[0], z[1], z[2]])\n\n        while coords_pull:\n            s = coords_pull.pop(0)\n            matrix_out.extend([[s, b] for b in [h for h in coords_pull]])\n    \n    elif flag_upload == 'xlsx':\n        print('Источник данных .xlsx')\n        matrix_out = get_data_matrix_excel()\n\n    return matrix_out\n\n\nasync def add_data_list(matrix_out):\n    \n    wb.create_sheet(\"array\")\n    wsarray = wb['array']\n    \n    # br = get_progress(len(matrix_out)*2)\n    quit = 0\n    \n    for b in matrix_out:\n        \n        if quit >= calc_limit.value and calc_limit.value > 0:\n            wsarray.cell(row=b[0][0], column=b[1][0]).value = 0\n            # next(br)\n            quit += 1\n            wsarray.cell(row=b[1][0], column=b[0][0]).value = 0\n            # next(br)\n            quit += 1\n        else:\n\n            r = [str(b[0][3]), str(b[0][2]), str(b[1][3]), str(b[1][2])]\n            coordinates = f'{r[0]},{r[1]};{r[2]},{r[3]}'\n            coord_list = [float(r[1]), float(r[0]), float(r[3]), float(r[2])]\n            coord_one = [coord_list[0], coord_list[1]]\n            coord_two = [coord_list[2], coord_list[3]]\n            \n            if type_driving == \"routed-euclidian\":\n                dist_km, ang = wgsdistance.distpointwgs84(coord_one, coord_two)\n                wsarray.cell(row=b[1][0], column=b[0][0]).value = round(dist_km / 1000, 2)\n                wsarray.cell(row=b[0][0], column=b[1][0]).value = round(dist_km / 1000, 2)\n                # print('Ok', coord_one, coord_two, 'Euclidian')\n                \n                for m in range(0, 2):\n                    # next(br)\n                    quit += 1\n    \n            else:\n                res, web_link = await get_distance_osrm(coordinates, coord_list)\n                \n                if res['code'] == 'Ok':\n                    \n                    y = res['routes'][0]\n                    legs = y['legs'][0]\n                    dist_meters = legs['distance']\n                    dist_km = round(dist_meters / 1000, 3)\n\n                    wsarray.cell(row=b[0][0], column=b[1][0]).value = dist_km\n                    # print(b[0][0], b[0][1], b[1][0], b[1][1], dist_km)\n                else:\n                    print(res['code'], coordinates, web_link)\n                    wsarray.cell(row=b[0][0], column=b[1][0]).value = 0\n\n                # next(br)\n                quit += 1\n\n                r = [str(b[1][3]), str(b[1][2]), str(b[0][3]), str(b[0][2])]\n                coordinates = f'{r[0]},{r[1]};{r[2]},{r[3]}'\n                coord_list = [float(r[1]), float(r[0]), float(r[3]), float(r[2])]\n                \n                res, web_link = await get_distance_osrm(coordinates, coord_list)\n                \n                if res['code'] == 'Ok':\n                    y = res['routes'][0]\n                    legs = y['legs'][0]\n                    dist_meters = legs['distance']\n                    dist_km = round(dist_meters / 1000, 3)\n\n                    wsarray.cell(row=b[1][0], column=b[0][0]).value = dist_km\n                    # print(b[1][0], b[1][1], b[0][0], b[0][1],  dist_km)\n                else:\n                    print(res['code'], coordinates, web_link)\n                    wsarray.cell(row=b[1][0], column=b[0][0]).value = 0\n                # next(br)\n                quit += 1\n    try:\n        # next(br)\n        pass\n    except Exception:\n        pass\n                   \n    wsarray.insert_cols(0)\n    \n    if flag_upload == 'csv':\n        for i, b in enumerate(list(csv_data['location'])):\n            wsarray.cell(row=i+1, column=1).value = b\n    elif flag_upload == 'xlsx':\n        for i, b in enumerate(list(dataframe['location'])):\n            wsarray.cell(row=i+1, column=1).value = b\n\n    return wsarray\n\n\nif __name__ == '__main__':\n\n    print(f'Задано ограничение по кол-ву расчетов: {calc_limit.value}')\n    matrix_out = get_data_matrix()\n    sheet_openpyxl = await add_data_list(matrix_out)   \n    \n    if flag_upload == 'csv':\n        head_name = list(csv_data['location'])\n    elif flag_upload == 'xlsx':\n        head_name = list(dataframe['location'])\n    head_name.insert(0, '*')\n    new_df = pd.DataFrame(sheet_openpyxl.values, columns=head_name)\n    print('ok')",
      "metadata": {
        "code_folding": [
          28,
          54,
          75,
          102,
          114,
          121,
          146,
          215
        ],
        "scrolled": true,
        "tags": [],
        "trusted": true
      },
      "execution_count": 6,
      "outputs": [
        {
          "name": "stderr",
          "text": "/lib/python3.10/site-packages/pyodide/__init__.py:74: FutureWarning: pyodide.to_js has been moved to pyodide.ffi.to_js Accessing it through the pyodide module is deprecated.\n  warn(\n",
          "output_type": "stream"
        },
        {
          "name": "stdout",
          "text": "Задано ограничение по кол-ву расчетов: 0\nИсточник данных .xlsx\nok\n",
          "output_type": "stream"
        }
      ],
      "id": "1ff1330e"
    },
    {
      "cell_type": "markdown",
      "source": "<h2 style=\"font-family:Times New Roman;color:gray\">Скачать матрицу в CSV file</h2>",
      "metadata": {},
      "id": "850fec75"
    },
    {
      "cell_type": "code",
      "source": "import base64\nfrom IPython.display import FileLink\nfrom ipywidgets import HTML\n\ndef create_download_link(df, title = \"Скачать матрицу в CSV file \", filename = \"matrix_dist.csv\"):  \n    csv = df.to_csv(sep=';', encoding='utf-8-sig', index=False)\n    b64 = base64.b64encode(csv.encode('utf-8-sig'))\n    payload = b64.decode()\n    html = '<a download=\"{filename}\" href=\"data:text/csv;base64,{payload}\" target=\"_blank\">{title}</a>'\n    html = html.format(payload=payload,title=title,filename=filename)\n    return HTML(html)\n\ncreate_download_link(new_df)",
      "metadata": {
        "code_folding": [
          4
        ]
      },
      "execution_count": null,
      "outputs": [],
      "id": "055f6200"
    },
    {
      "cell_type": "markdown",
      "source": "<h2 style=\"font-family:Times New Roman;\">Скачать матрицу в Excel .xlsx</h2>",
      "metadata": {},
      "id": "5ec856ca"
    },
    {
      "cell_type": "code",
      "source": "import base64\nfrom IPython.display import FileLink\nfrom ipywidgets import HTML\nfrom pandas import ExcelFile, ExcelWriter\n\n\ndef create_download_link_excel(df, title = \"Скачайте матрицу расстояний в Excel .xlsx\", filename = \"matrix_dist.xlsx\"):  \n    output = io.BytesIO()\n    with ExcelWriter(output, engine='openpyxl') as writer:\n        df.to_excel(writer, sheet_name='array', index=False)\n    \n    excel_data = output.getvalue()\n    b64 = base64.b64encode(excel_data)\n    payload = b64.decode()\n    \n    html = '<a download=\"{filename}\" href=\"data:text/xml;base64,{payload}\" target=\"_blank\">{title}</a>'\n    html = html.format(payload=payload,title=title,filename=filename)\n    \n    return HTML(html)\n\ncreate_download_link_excel(new_df)",
      "metadata": {
        "code_folding": [
          6
        ],
        "tags": [],
        "trusted": true
      },
      "execution_count": 66,
      "outputs": [
        {
          "execution_count": 56,
          "output_type": "execute_result",
          "data": {
            "text/plain": "HTML(value='<a download=\"matrix_dist.xlsx\" href=\"data:text/xml;base64,UEsDBBQAAAAIAKIBJVYHQU1igQAAALEAAAAQAAAA…",
            "application/vnd.jupyter.widget-view+json": {
              "version_major": 2,
              "version_minor": 0,
              "model_id": "ffdffb6bec4243b29c030499426d7df7"
            }
          },
          "metadata": {}
        }
      ],
      "id": "825baf74"
    },
    {
      "cell_type": "markdown",
      "source": "<h2 style=\"font-family:Times New Roman;\">Создать ZIP и сохранить как файл в папку temp</h2>",
      "metadata": {},
      "id": "1b3fec38-3614-43c4-84a1-5211813af8a5"
    },
    {
      "cell_type": "code",
      "source": "import os\ntry:\n    tmpath = f'temp'\n    os.mkdir(tmpath)\nexcept Exception as ex:\n    pass\n\ncompression_opts = dict(method='zip', archive_name='out.csv')  \nnew_df.to_csv(f'{tmpath}/out.zip', index=False, compression=compression_opts) ",
      "metadata": {},
      "execution_count": null,
      "outputs": [],
      "id": "544bd915"
    },
    {
      "cell_type": "markdown",
      "source": "<h2 style=\"font-family:Times New Roman;\">Создать (XLSX) и сохранить как файл в папку temp</h2>",
      "metadata": {},
      "id": "bbc5c679-366e-4f30-8740-5b18be5db01c"
    },
    {
      "cell_type": "code",
      "source": "import os\ntry:\n    tmpath = f'temp'\n    os.mkdir(tmpath)\nexcept Exception as ex:\n    pass\n\nfile_name = 'MarksData.xlsx'\nnew_df.to_excel(f'{tmpath}/{file_name}')\nprint('DataFrame is written to Excel File successfully.')",
      "metadata": {
        "tags": []
      },
      "execution_count": null,
      "outputs": [],
      "id": "f16a373c-794d-42b9-9200-b3cdd4d92049"
    },
    {
      "cell_type": "code",
      "source": "import json\nfrom pyodide import to_js\nfrom IPython.display import JSON\nfrom js import Object, fetch\nimport asyncio\n\nasync def ss():\n    coordinates = '30.613808,46.471085;29.234447,47.997272'\n    r1 = f'https://routing.openstreetmap.de/{type_driving}/route/v1/driving/{coordinates}?overview=false&alternatives=true&steps=false'\n    resp = await fetch(r1, method=\"GET\", headers=Object.fromEntries(to_js({ \"Content-Type\": \"application/json\" })),)\n    res = await resp.text()\n    res_json = json.loads(res)\n    \n    return res_json\n    \nr = await ss()\n# loop = asyncio.get_event_loop()\n# loop.run_until_complete(ss())\nprint(r)",
      "metadata": {
        "trusted": true
      },
      "execution_count": 59,
      "outputs": [
        {
          "name": "stdout",
          "text": "{'code': 'Ok', 'routes': [{'legs': [{'steps': [], 'summary': '', 'weight': 58057.9, 'duration': 58057.9, 'distance': 244351.7}], 'weight_name': 'duration', 'weight': 58057.9, 'duration': 58057.9, 'distance': 244351.7}, {'legs': [{'steps': [], 'summary': '', 'weight': 61776, 'duration': 61776, 'distance': 260646.5}], 'weight_name': 'duration', 'weight': 61776, 'duration': 61776, 'distance': 260646.5}], 'waypoints': [{'hint': 'KE1ch0FNXIcJAQAADgEAAAAAAAAAAAAAgMPdQgZ44EIAAAAAAAAAAAkBAAAOAQAAAAAAAAAAAADgDgAAqiLTAc8XxQIwIdMBrRfFAgAADxY0SkXS', 'distance': 29.274553386, 'name': 'Авангардовська вулиця', 'location': [30.614186, 46.471119]}, {'hint': 'UszXhjzNBokdAQAANAEAAAAAAAAAAAAAMx_uQqwuAEMAAAAAAAAAAB0BAAA0AQAAAAAAAAAAAADgDgAA7xG-ASVj3AIPFb4BWGHcAgAAjwI0SkXS', 'distance': 78.708342376, 'name': 'Крутівська вулиця', 'location': [29.233647, 47.997733]}]}\n",
          "output_type": "stream"
        }
      ],
      "id": "9f5133a7-d38b-41b4-a0e9-7de1bc562ac9"
    },
    {
      "cell_type": "code",
      "source": "",
      "metadata": {},
      "execution_count": null,
      "outputs": [],
      "id": "a08f8a59-2a12-4d78-9018-99e5b7bdaf43"
    }
  ]
}
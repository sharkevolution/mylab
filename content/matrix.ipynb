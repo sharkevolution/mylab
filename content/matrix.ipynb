{
 "cells": [
  {
   "cell_type": "markdown",
   "id": "1b89eaae",
   "metadata": {},
   "source": [
    "<h1 style=\"font-family:Times New Roman;\">Расчет матрицы расстояний</h1>\n",
    "\n",
    "*Nikolay Sitala 2021, nsitala@ukr.net* \n",
    ">http://map.project-osrm.org"
   ]
  },
  {
   "cell_type": "markdown",
   "id": "874e0be2",
   "metadata": {
    "tags": []
   },
   "source": [
    "<h3 style=\"font-family:Times New Roman;color:gray\">Пример файла Excel .xlsx с координатами</h3>"
   ]
  },
  {
   "cell_type": "code",
   "execution_count": null,
   "id": "7063406e",
   "metadata": {
    "tags": []
   },
   "outputs": [],
   "source": [
    "import doexample\n",
    "doexample.start(\"resources/xlsx_coords.test\", \"coord_example.xlsx\")"
   ]
  },
  {
   "cell_type": "markdown",
   "id": "43cd27d0",
   "metadata": {},
   "source": [
    "<h2 style=\"font-family:Times New Roman;\">Загрузите файл .xlsx c координатами</h2>"
   ]
  },
  {
   "cell_type": "code",
   "execution_count": null,
   "id": "83f0855d",
   "metadata": {
    "code_folding": [
     2
    ],
    "tags": []
   },
   "outputs": [],
   "source": [
    "import ipywidgets as widgets\n",
    "\n",
    "uploader = widgets.FileUpload(\n",
    "    accept='.xlsx',  # Accepted file extension e.g. '.txt', '.pdf', 'image/*', 'image/*,.pdf'\n",
    "    multiple=False  # True to accept multiple files upload else False\n",
    ")\n",
    "flag_upload = 'xlsx'\n",
    "uploader = widgets.FileUpload()\n",
    "display(uploader)"
   ]
  },
  {
   "cell_type": "markdown",
   "id": "e0a76f9f",
   "metadata": {},
   "source": [
    "<h3 style=\"font-family: 'Times New Roman'\">Предпросмотр .xlsx с координатами</h3>"
   ]
  },
  {
   "cell_type": "code",
   "execution_count": null,
   "id": "d3e92a1f",
   "metadata": {
    "tags": []
   },
   "outputs": [],
   "source": [
    "import io\n",
    "import openpyxl\n",
    "from pandas import ExcelFile\n",
    "\n",
    "uploaded_file = uploader.value[0]\n",
    "print(uploaded_file.name)\n",
    "excel_data = ExcelFile(io.BytesIO(uploaded_file.content.tobytes()), engine='openpyxl')\n",
    "dataframe = excel_data.parse(excel_data.sheet_names[0])\n",
    "dataframe"
   ]
  },
  {
   "cell_type": "markdown",
   "id": "f9fe4491",
   "metadata": {},
   "source": [
    "<h3 style=\"font-family:Times New Roman;color:gray\">Пример файла CSV с координатами</h3>"
   ]
  },
  {
   "cell_type": "code",
   "execution_count": null,
   "id": "2062213d",
   "metadata": {
    "code_folding": [
     6
    ]
   },
   "outputs": [],
   "source": [
    "import io\n",
    "import pandas as pd\n",
    "import base64\n",
    "from IPython.display import FileLink\n",
    "from ipywidgets import HTML\n",
    "\n",
    "def create_download_link(df, title = \"Скачать пример в CSV file \", filename = \"data.csv\"):  \n",
    "    csv = df.to_csv(sep=';', encoding='utf-8-sig', index=False)\n",
    "    b64 = base64.b64encode(csv.encode('utf-8-sig'))\n",
    "    payload = b64.decode()\n",
    "    html = '<a download=\"{filename}\" href=\"data:text/csv;base64,{payload}\" target=\"_blank\">{title}</a>'\n",
    "    html = html.format(payload=payload,title=title,filename=filename)\n",
    "    return HTML(html)\n",
    "\n",
    "csv_data = pd.read_csv(\"resources/csv_coords.test\", delimiter=';', encoding ='utf-8')\n",
    "create_download_link(csv_data)"
   ]
  },
  {
   "cell_type": "markdown",
   "id": "17512a58",
   "metadata": {},
   "source": [
    "<h2 style=\"font-family:Times New Roman;color:gray\">Загрузите файл формат CSV c координатами</h2>"
   ]
  },
  {
   "cell_type": "code",
   "execution_count": null,
   "id": "f99e4898",
   "metadata": {
    "code_folding": [
     2
    ]
   },
   "outputs": [],
   "source": [
    "import ipywidgets as widgets\n",
    "\n",
    "uploader = widgets.FileUpload(\n",
    "    accept='.xlsx',  # Accepted file extension e.g. '.txt', '.pdf', 'image/*', 'image/*,.pdf'\n",
    "    multiple=False  # True to accept multiple files upload else False\n",
    ")\n",
    "flag_upload = 'csv'\n",
    "uploader = widgets.FileUpload()\n",
    "display(uploader)"
   ]
  },
  {
   "cell_type": "markdown",
   "id": "5343d43b",
   "metadata": {},
   "source": [
    "<h3 style=\"font-family:Times New Roman;color:gray\">Предпросмотр CSV с координатами</h3>"
   ]
  },
  {
   "cell_type": "code",
   "execution_count": null,
   "id": "f493c478",
   "metadata": {},
   "outputs": [],
   "source": [
    "import io\n",
    "import openpyxl\n",
    "from pandas import ExcelFile\n",
    "import pandas as pd\n",
    "\n",
    "uploaded_file = uploader.value[0]\n",
    "print(uploaded_file.name)\n",
    "csv_data = pd.read_csv(io.BytesIO(uploaded_file.content.tobytes()), delimiter=';', encoding ='utf-8')\n",
    "csv_data"
   ]
  },
  {
   "cell_type": "markdown",
   "id": "391463bc",
   "metadata": {},
   "source": [
    "[Как преобразовать файлы Excel в формат CSV](https://office-guru.ru/excel/kak-preobrazovat-excel-v-csv-i-eksportirovat-faily-excel-v-format-csv-utf-8-456.html#2>)"
   ]
  },
  {
   "cell_type": "markdown",
   "id": "6477c8d6",
   "metadata": {},
   "source": [
    "<h2 style=\"font-family: 'Times New Roman';color:blue\">Cкрипт создания матрицы расстояний</h2>"
   ]
  },
  {
   "cell_type": "code",
   "execution_count": null,
   "id": "7a8967d5",
   "metadata": {
    "code_folding": [],
    "tags": []
   },
   "outputs": [],
   "source": [
    "trip = widgets.Dropdown(\n",
    "    options=[('Авто', 1), ('Байк', 2), ('Пешком', 3), ('Euclidian', 4)],\n",
    "    value=4,\n",
    "    description='Выберите из списка:',\n",
    ")\n",
    "trip"
   ]
  },
  {
   "cell_type": "markdown",
   "id": "1eaa8a24",
   "metadata": {},
   "source": [
    "<h2 style=\"font-family: 'Times New Roman';color:blue\">Ограничение по количеству расчетов</h2>"
   ]
  },
  {
   "cell_type": "code",
   "execution_count": null,
   "id": "a06e5d2f",
   "metadata": {
    "tags": []
   },
   "outputs": [],
   "source": [
    "calc_limit = widgets.IntText(\n",
    "    value=0,\n",
    "    description='Число:',\n",
    "    disabled=False\n",
    ")\n",
    "calc_limit"
   ]
  },
  {
   "cell_type": "code",
   "execution_count": null,
   "id": "1ff1330e",
   "metadata": {
    "code_folding": [
     28,
     54,
     75,
     102,
     114,
     121,
     146,
     215
    ],
    "scrolled": true,
    "tags": []
   },
   "outputs": [],
   "source": [
    "## http://map.project-osrm.org/\n",
    "\n",
    "import os\n",
    "import time\n",
    "import json\n",
    "import pprint\n",
    "import requests\n",
    "\n",
    "from openpyxl import Workbook, load_workbook\n",
    "from openpyxl.worksheet import worksheet\n",
    "from tqdm import tqdm\n",
    "\n",
    "import pandas as pd\n",
    "from pandas import DataFrame\n",
    "\n",
    "import wgsdistance\n",
    "\n",
    "wb = Workbook()\n",
    "\n",
    "global trip\n",
    "global calc_limit\n",
    "\n",
    "type_driving = \"routed-car\"\n",
    "\n",
    "if trip.value == 1:\n",
    "    type_driving = \"routed-car\"\n",
    "elif trip.value == 2:\n",
    "    type_driving = \"routed-bike\"\n",
    "elif trip.value == 3:\n",
    "    type_driving = \"routed-foot\"\n",
    "elif trip.value == 4:\n",
    "    type_driving = \"routed-euclidian\"\n",
    "\n",
    "def get_distance_osrm(coordinates, coord_list):\n",
    "\n",
    "    global type_driving\n",
    "    \n",
    "    # coordinates = '30.613808,46.471085;29.234447,47.997272'\n",
    "    # r1 = f'http://router.project-osrm.org/route/v1/{type_driving}/{coordinates}?overview=false'\n",
    "    r1 = f'https://routing.openstreetmap.de/{type_driving}/route/v1/driving/{coordinates}?overview=false&alternatives=true&steps=false'\n",
    "\n",
    "    i = 8\n",
    "    while i > 0:\n",
    "        res = requests.get(r1, timeout=None)\n",
    "        x = res.headers.get('Cache-Control')\n",
    "        if x == 'max-age=0':\n",
    "            break\n",
    "        else:\n",
    "            break\n",
    "            i -= 1\n",
    "            time.sleep(10)\n",
    "\n",
    "    res1 = res.content\n",
    "    res2 = res1.decode(encoding='UTF-8', errors='strict')\n",
    "    res_json = json.loads(res2)\n",
    "    \n",
    "    return res_json, r1\n",
    "\n",
    "\n",
    "def import_data_excel():\n",
    "    \n",
    "    global excel_data\n",
    "    \n",
    "    # wb1 = load_workbook(io.BytesIO(uploader.data[-1]))\n",
    "    wb1 = load_workbook(io.BytesIO(uploaded_file.content))\n",
    "    \n",
    "    sheets_list = wb1.sheetnames\n",
    "    wsdata = wb1[sheets_list[0]]\n",
    "    \n",
    "    use_min_row = 2\n",
    "    use_min_col = 1\n",
    "    use_max_col = 3\n",
    "    use_max_row = wsdata.max_row\n",
    "    \n",
    "    row_fields = worksheet.Worksheet.iter_rows(wsdata, min_row=use_min_row,\n",
    "                                               max_row=use_max_row,\n",
    "                                               min_col=use_min_col,\n",
    "                                               max_col=use_max_col)\n",
    "    for b in row_fields:\n",
    "        yield b\n",
    "\n",
    "\n",
    "def get_data_matrix_excel():\n",
    "\n",
    "    coords_pull = []\n",
    "    matrix_out = []\n",
    "    j = 0\n",
    "    \n",
    "    for z4 in import_data_excel():\n",
    "        z4_list = []\n",
    "        for i, u in enumerate(z4):\n",
    "            if not u.value is None:\n",
    "                z4_list.append(u.value)\n",
    "\n",
    "        z4_list = [u.value for u in z4[:] if not u.value is None]\n",
    "        if z4_list:\n",
    "            j += 1\n",
    "            coords_pull.append([j, z4_list[0], z4_list[1], z4_list[2]])\n",
    "\n",
    "    first_list = coords_pull\n",
    "    matrix_out = []\n",
    "\n",
    "    while first_list:\n",
    "        s = first_list.pop(0)\n",
    "        matrix_out.extend([[s, b] for b in [h for h in first_list]])\n",
    "    return matrix_out\n",
    "\n",
    "\n",
    "def import_data_csv():\n",
    "    \n",
    "    global csv_data\n",
    "    \n",
    "    locate = list(csv_data['location'])\n",
    "    lat = list(csv_data['latitude'])\n",
    "    lon = list(csv_data['lontitude'])\n",
    "    \n",
    "    for b in zip(locate, lat, lon):\n",
    "        yield(b)\n",
    "\n",
    "\n",
    "def get_progress(mtx):\n",
    "    for i in tqdm(range(mtx)):\n",
    "        yield 0\n",
    "        \n",
    "        \n",
    "def get_data_matrix():\n",
    "\n",
    "    global flag_upload\n",
    "    \n",
    "    if flag_upload == 'csv':\n",
    "        print('Источник данных .csv')\n",
    "        j = 0\n",
    "        coords_pull = []\n",
    "        matrix_out = []\n",
    "\n",
    "        for z in import_data_csv():\n",
    "            j += 1\n",
    "            coords_pull.append([j, z[0], z[1], z[2]])\n",
    "\n",
    "        while coords_pull:\n",
    "            s = coords_pull.pop(0)\n",
    "            matrix_out.extend([[s, b] for b in [h for h in coords_pull]])\n",
    "    \n",
    "    elif flag_upload == 'xlsx':\n",
    "        print('Источник данных .xlsx')\n",
    "        matrix_out = get_data_matrix_excel()\n",
    "\n",
    "    return matrix_out\n",
    "\n",
    "\n",
    "def add_data_list(matrix_out):\n",
    "    \n",
    "    wb.create_sheet(\"array\")\n",
    "    wsarray = wb['array']\n",
    "    \n",
    "    br = get_progress(len(matrix_out)*2)\n",
    "    quit = 0\n",
    "    \n",
    "    for b in matrix_out:\n",
    "        \n",
    "        if quit >= calc_limit.value and calc_limit.value > 0:\n",
    "            wsarray.cell(row=b[0][0], column=b[1][0]).value = 0\n",
    "            next(br)\n",
    "            quit += 1\n",
    "            wsarray.cell(row=b[1][0], column=b[0][0]).value = 0\n",
    "            next(br)\n",
    "            quit += 1\n",
    "        else:\n",
    "\n",
    "            r = [str(b[0][3]), str(b[0][2]), str(b[1][3]), str(b[1][2])]\n",
    "            coordinates = f'{r[0]},{r[1]};{r[2]},{r[3]}'\n",
    "            coord_list = [float(r[1]), float(r[0]), float(r[3]), float(r[2])]\n",
    "            coord_one = [coord_list[0], coord_list[1]]\n",
    "            coord_two = [coord_list[2], coord_list[3]]\n",
    "            \n",
    "            if type_driving == \"routed-euclidian\":\n",
    "                dist_km, ang = wgsdistance.distpointwgs84(coord_one, coord_two)\n",
    "                wsarray.cell(row=b[1][0], column=b[0][0]).value = round(dist_km / 1000, 2)\n",
    "                wsarray.cell(row=b[0][0], column=b[1][0]).value = round(dist_km / 1000, 2)\n",
    "                # print('Ok', coord_one, coord_two, 'Euclidian')\n",
    "                \n",
    "                for m in range(0, 2):\n",
    "                    next(br)\n",
    "                    quit += 1\n",
    "    \n",
    "            else:\n",
    "                res, web_link = get_distance_osrm(coordinates, coord_list)\n",
    "                \n",
    "                if res['code'] == 'Ok':\n",
    "                    \n",
    "                    y = res['routes'][0]\n",
    "                    legs = y['legs'][0]\n",
    "                    dist_meters = legs['distance']\n",
    "                    dist_km = round(dist_meters / 1000, 3)\n",
    "\n",
    "                    wsarray.cell(row=b[0][0], column=b[1][0]).value = dist_km\n",
    "                    # print(b[0][0], b[0][1], b[1][0], b[1][1], dist_km)\n",
    "                else:\n",
    "                    print(res['code'], coordinates, web_link)\n",
    "                    wsarray.cell(row=b[0][0], column=b[1][0]).value = 0\n",
    "\n",
    "                next(br)\n",
    "                quit += 1\n",
    "\n",
    "                r = [str(b[1][3]), str(b[1][2]), str(b[0][3]), str(b[0][2])]\n",
    "                coordinates = f'{r[0]},{r[1]};{r[2]},{r[3]}'\n",
    "                coord_list = [float(r[1]), float(r[0]), float(r[3]), float(r[2])]\n",
    "                \n",
    "                res, web_link = get_distance_osrm(coordinates, coord_list)\n",
    "                \n",
    "                if res['code'] == 'Ok':\n",
    "                    y = res['routes'][0]\n",
    "                    legs = y['legs'][0]\n",
    "                    dist_meters = legs['distance']\n",
    "                    dist_km = round(dist_meters / 1000, 3)\n",
    "\n",
    "                    wsarray.cell(row=b[1][0], column=b[0][0]).value = dist_km\n",
    "                    # print(b[1][0], b[1][1], b[0][0], b[0][1],  dist_km)\n",
    "                else:\n",
    "                    print(res['code'], coordinates, web_link)\n",
    "                    wsarray.cell(row=b[1][0], column=b[0][0]).value = 0\n",
    "                next(br)\n",
    "                quit += 1\n",
    "    try:\n",
    "        next(br)\n",
    "    except Exception:\n",
    "        pass\n",
    "                   \n",
    "    wsarray.insert_cols(0)\n",
    "    \n",
    "    if flag_upload == 'csv':\n",
    "        for i, b in enumerate(list(csv_data['location'])):\n",
    "            wsarray.cell(row=i+1, column=1).value = b\n",
    "    elif flag_upload == 'xlsx':\n",
    "        for i, b in enumerate(list(dataframe['location'])):\n",
    "            wsarray.cell(row=i+1, column=1).value = b\n",
    "\n",
    "    return wsarray\n",
    "\n",
    "\n",
    "if __name__ == '__main__':\n",
    "\n",
    "    print(f'Задано ограничение по кол-ву расчетов: {calc_limit.value}')\n",
    "    matrix_out = get_data_matrix()\n",
    "    sheet_openpyxl = add_data_list(matrix_out)   \n",
    "    \n",
    "    if flag_upload == 'csv':\n",
    "        head_name = list(csv_data['location'])\n",
    "    elif flag_upload == 'xlsx':\n",
    "        head_name = list(dataframe['location'])\n",
    "    head_name.insert(0, '*')\n",
    "    new_df = pd.DataFrame(sheet_openpyxl.values, columns=head_name)"
   ]
  },
  {
   "cell_type": "markdown",
   "id": "850fec75",
   "metadata": {},
   "source": [
    "<h2 style=\"font-family:Times New Roman;color:gray\">Скачать матрицу в CSV file</h2>"
   ]
  },
  {
   "cell_type": "code",
   "execution_count": null,
   "id": "055f6200",
   "metadata": {
    "code_folding": [
     4
    ]
   },
   "outputs": [],
   "source": [
    "import base64\n",
    "from IPython.display import FileLink\n",
    "from ipywidgets import HTML\n",
    "\n",
    "def create_download_link(df, title = \"Скачать матрицу в CSV file \", filename = \"matrix_dist.csv\"):  \n",
    "    csv = df.to_csv(sep=';', encoding='utf-8-sig', index=False)\n",
    "    b64 = base64.b64encode(csv.encode('utf-8-sig'))\n",
    "    payload = b64.decode()\n",
    "    html = '<a download=\"{filename}\" href=\"data:text/csv;base64,{payload}\" target=\"_blank\">{title}</a>'\n",
    "    html = html.format(payload=payload,title=title,filename=filename)\n",
    "    return HTML(html)\n",
    "\n",
    "create_download_link(new_df)"
   ]
  },
  {
   "cell_type": "markdown",
   "id": "5ec856ca",
   "metadata": {},
   "source": [
    "<h2 style=\"font-family:Times New Roman;\">Скачать матрицу в Excel .xlsx</h2>"
   ]
  },
  {
   "cell_type": "code",
   "execution_count": null,
   "id": "825baf74",
   "metadata": {
    "code_folding": [
     6
    ],
    "tags": []
   },
   "outputs": [],
   "source": [
    "import base64\n",
    "from IPython.display import FileLink\n",
    "from ipywidgets import HTML\n",
    "from pandas import ExcelFile, ExcelWriter\n",
    "\n",
    "\n",
    "def create_download_link_excel(df, title = \"Скачайте матрицу расстояний в Excel .xlsx\", filename = \"matrix_dist.xlsx\"):  \n",
    "    output = io.BytesIO()\n",
    "    with ExcelWriter(output, engine='openpyxl') as writer:\n",
    "        df.to_excel(writer, sheet_name='array', index=False)\n",
    "    \n",
    "    excel_data = output.getvalue()\n",
    "    b64 = base64.b64encode(excel_data)\n",
    "    payload = b64.decode()\n",
    "    \n",
    "    html = '<a download=\"{filename}\" href=\"data:text/xml;base64,{payload}\" target=\"_blank\">{title}</a>'\n",
    "    html = html.format(payload=payload,title=title,filename=filename)\n",
    "    \n",
    "    return HTML(html)\n",
    "\n",
    "create_download_link_excel(new_df)"
   ]
  },
  {
   "cell_type": "markdown",
   "id": "1b3fec38-3614-43c4-84a1-5211813af8a5",
   "metadata": {},
   "source": [
    "<h2 style=\"font-family:Times New Roman;\">Создать ZIP и сохранить как файл в папку temp</h2>"
   ]
  },
  {
   "cell_type": "code",
   "execution_count": null,
   "id": "544bd915",
   "metadata": {},
   "outputs": [],
   "source": [
    "import os\n",
    "try:\n",
    "    tmpath = f'temp'\n",
    "    os.mkdir(tmpath)\n",
    "except Exception as ex:\n",
    "    pass\n",
    "\n",
    "compression_opts = dict(method='zip', archive_name='out.csv')  \n",
    "new_df.to_csv(f'{tmpath}/out.zip', index=False, compression=compression_opts) "
   ]
  },
  {
   "cell_type": "markdown",
   "id": "bbc5c679-366e-4f30-8740-5b18be5db01c",
   "metadata": {},
   "source": [
    "<h2 style=\"font-family:Times New Roman;\">Создать (XLSX) и сохранить как файл в папку temp</h2>"
   ]
  },
  {
   "cell_type": "code",
   "execution_count": null,
   "id": "f16a373c-794d-42b9-9200-b3cdd4d92049",
   "metadata": {
    "tags": []
   },
   "outputs": [],
   "source": [
    "import os\n",
    "try:\n",
    "    tmpath = f'temp'\n",
    "    os.mkdir(tmpath)\n",
    "except Exception as ex:\n",
    "    pass\n",
    "\n",
    "file_name = 'MarksData.xlsx'\n",
    "new_df.to_excel(f'{tmpath}/{file_name}')\n",
    "print('DataFrame is written to Excel File successfully.')"
   ]
  },
  {
   "cell_type": "code",
   "execution_count": null,
   "id": "9f5133a7-d38b-41b4-a0e9-7de1bc562ac9",
   "metadata": {},
   "outputs": [],
   "source": []
  }
 ],
 "metadata": {
  "interpreter": {
   "hash": "213e3cdfa7e49a72da46e33368d188e831bf06b855f4b34975d8e787861861ab"
  },
  "kernelspec": {
   "display_name": "Python 3 (ipykernel)",
   "language": "python",
   "name": "python3"
  },
  "language_info": {
   "codemirror_mode": {
    "name": "ipython",
    "version": 3
   },
   "file_extension": ".py",
   "mimetype": "text/x-python",
   "name": "python",
   "nbconvert_exporter": "python",
   "pygments_lexer": "ipython3",
   "version": "3.10.8"
  },
  "metadata": {
   "interpreter": {
    "hash": "213e3cdfa7e49a72da46e33368d188e831bf06b855f4b34975d8e787861861ab"
   }
  },
  "toc": {
   "base_numbering": 1,
   "nav_menu": {},
   "number_sections": true,
   "sideBar": true,
   "skip_h1_title": false,
   "title_cell": "Table of Contents",
   "title_sidebar": "Contents",
   "toc_cell": false,
   "toc_position": {
    "height": "calc(100% - 180px)",
    "left": "10px",
    "top": "150px",
    "width": "310px"
   },
   "toc_section_display": true,
   "toc_window_display": true
  }
 },
 "nbformat": 4,
 "nbformat_minor": 5
}

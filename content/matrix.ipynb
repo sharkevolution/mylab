{
  "metadata": {
    "interpreter": {
      "hash": "213e3cdfa7e49a72da46e33368d188e831bf06b855f4b34975d8e787861861ab"
    },
    "metadata": {
      "interpreter": {
        "hash": "213e3cdfa7e49a72da46e33368d188e831bf06b855f4b34975d8e787861861ab"
      }
    },
    "toc": {
      "base_numbering": 1,
      "nav_menu": {},
      "number_sections": true,
      "sideBar": true,
      "skip_h1_title": false,
      "title_cell": "Table of Contents",
      "title_sidebar": "Contents",
      "toc_cell": false,
      "toc_position": {
        "height": "calc(100% - 180px)",
        "left": "10px",
        "top": "150px",
        "width": "310px"
      },
      "toc_section_display": true,
      "toc_window_display": true
    },
    "kernelspec": {
      "name": "python",
      "display_name": "Python (Pyodide)",
      "language": "python"
    },
    "language_info": {
      "codemirror_mode": {
        "name": "python",
        "version": 3
      },
      "file_extension": ".py",
      "mimetype": "text/x-python",
      "name": "python",
      "nbconvert_exporter": "python",
      "pygments_lexer": "ipython3",
      "version": "3.8"
    }
  },
  "nbformat_minor": 5,
  "nbformat": 4,
  "cells": [
    {
      "cell_type": "markdown",
      "source": "<h1 style=\"font-family:Times New Roman;\">Расчет матрицы расстояний</h1>\n\n*Nikolay Sitala 2021, nsitala@ukr.net* \n>http://map.project-osrm.org",
      "metadata": {},
      "id": "1b89eaae"
    },
    {
      "cell_type": "markdown",
      "source": "<h3 style=\"font-family:Times New Roman;color:gray\">Пример файла Excel .xlsx с координатами</h3>",
      "metadata": {
        "tags": []
      },
      "id": "874e0be2"
    },
    {
      "cell_type": "code",
      "source": "try:\n    import piplite\n    await piplite.install(['ipywidgets', 'openpyxl', 'pandas', 'requests', 'tqdm', 'ssl'])\nexcept ImportError:\n    pass\n\nimport doexample\ndoexample.start(\"resources/xlsx_coords.test\", \"coord_example.xlsx\")",
      "metadata": {
        "tags": [],
        "trusted": true
      },
      "execution_count": 52,
      "outputs": [
        {
          "execution_count": 43,
          "output_type": "execute_result",
          "data": {
            "text/plain": "<IPython.core.display.HTML object>",
            "text/html": "<a download=\"coord_example.xlsx\" href=\"data:text/xml;base64,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\" target=\"_blank\">Скачайте пример с адресами Excel file</a>"
          },
          "metadata": {}
        }
      ],
      "id": "7063406e"
    },
    {
      "cell_type": "markdown",
      "source": "<h2 style=\"font-family:Times New Roman;\">Загрузите файл .xlsx c координатами</h2>",
      "metadata": {},
      "id": "43cd27d0"
    },
    {
      "cell_type": "code",
      "source": "import ipywidgets as widgets\n\nuploader = widgets.FileUpload(\n    accept='.xlsx',  # Accepted file extension e.g. '.txt', '.pdf', 'image/*', 'image/*,.pdf'\n    multiple=False  # True to accept multiple files upload else False\n)\nflag_upload = 'xlsx'\nuploader = widgets.FileUpload()\ndisplay(uploader)",
      "metadata": {
        "code_folding": [
          2
        ],
        "tags": [],
        "trusted": true
      },
      "execution_count": 53,
      "outputs": [
        {
          "output_type": "display_data",
          "data": {
            "text/plain": "FileUpload(value=(), description='Upload')",
            "application/vnd.jupyter.widget-view+json": {
              "version_major": 2,
              "version_minor": 0,
              "model_id": "e589ad2ea75f467d88e2545cb5109d42"
            }
          },
          "metadata": {}
        }
      ],
      "id": "83f0855d"
    },
    {
      "cell_type": "markdown",
      "source": "<h3 style=\"font-family: 'Times New Roman'\">Предпросмотр .xlsx с координатами</h3>",
      "metadata": {},
      "id": "e0a76f9f"
    },
    {
      "cell_type": "code",
      "source": "import io\nimport openpyxl\nfrom pandas import ExcelFile\n\nuploaded_file = uploader.value[0]\nprint(uploaded_file.name)\nexcel_data = ExcelFile(io.BytesIO(uploaded_file.content.tobytes()), engine='openpyxl')\ndataframe = excel_data.parse(excel_data.sheet_names[0])\ndataframe",
      "metadata": {
        "tags": [],
        "trusted": true
      },
      "execution_count": 54,
      "outputs": [
        {
          "name": "stdout",
          "text": "coord_example.xlsx\n",
          "output_type": "stream"
        },
        {
          "execution_count": 45,
          "output_type": "execute_result",
          "data": {
            "text/plain": "                      location   latitude  lontitude\n0       Жерноклевы, ЧЕРКАССКАЯ  49.969062  31.935005\n1        Зарубинцы, ЧЕРКАССКАЯ  49.126683  29.955307\n2     Звенигородка, ЧЕРКАССКАЯ  49.070364  30.968338\n3  Здобуток Жовтня, ЧЕРКАССКАЯ  48.868504  30.749146\n4       Золотоноша, ЧЕРКАССКАЯ  49.669020  32.042598\n5           Ирдынь, ЧЕРКАССКАЯ  49.367147  31.677246\n6          Ирклиев, ЧЕРКАССКАЯ  49.518256  32.338096\n7       Кайтановка, ЧЕРКАССКАЯ  48.891665  31.082583\n8            Канев, ЧЕРКАССКАЯ  49.749587  31.459825",
            "text/html": "<div>\n<style scoped>\n    .dataframe tbody tr th:only-of-type {\n        vertical-align: middle;\n    }\n\n    .dataframe tbody tr th {\n        vertical-align: top;\n    }\n\n    .dataframe thead th {\n        text-align: right;\n    }\n</style>\n<table border=\"1\" class=\"dataframe\">\n  <thead>\n    <tr style=\"text-align: right;\">\n      <th></th>\n      <th>location</th>\n      <th>latitude</th>\n      <th>lontitude</th>\n    </tr>\n  </thead>\n  <tbody>\n    <tr>\n      <th>0</th>\n      <td>Жерноклевы, ЧЕРКАССКАЯ</td>\n      <td>49.969062</td>\n      <td>31.935005</td>\n    </tr>\n    <tr>\n      <th>1</th>\n      <td>Зарубинцы, ЧЕРКАССКАЯ</td>\n      <td>49.126683</td>\n      <td>29.955307</td>\n    </tr>\n    <tr>\n      <th>2</th>\n      <td>Звенигородка, ЧЕРКАССКАЯ</td>\n      <td>49.070364</td>\n      <td>30.968338</td>\n    </tr>\n    <tr>\n      <th>3</th>\n      <td>Здобуток Жовтня, ЧЕРКАССКАЯ</td>\n      <td>48.868504</td>\n      <td>30.749146</td>\n    </tr>\n    <tr>\n      <th>4</th>\n      <td>Золотоноша, ЧЕРКАССКАЯ</td>\n      <td>49.669020</td>\n      <td>32.042598</td>\n    </tr>\n    <tr>\n      <th>5</th>\n      <td>Ирдынь, ЧЕРКАССКАЯ</td>\n      <td>49.367147</td>\n      <td>31.677246</td>\n    </tr>\n    <tr>\n      <th>6</th>\n      <td>Ирклиев, ЧЕРКАССКАЯ</td>\n      <td>49.518256</td>\n      <td>32.338096</td>\n    </tr>\n    <tr>\n      <th>7</th>\n      <td>Кайтановка, ЧЕРКАССКАЯ</td>\n      <td>48.891665</td>\n      <td>31.082583</td>\n    </tr>\n    <tr>\n      <th>8</th>\n      <td>Канев, ЧЕРКАССКАЯ</td>\n      <td>49.749587</td>\n      <td>31.459825</td>\n    </tr>\n  </tbody>\n</table>\n</div>"
          },
          "metadata": {}
        }
      ],
      "id": "d3e92a1f"
    },
    {
      "cell_type": "markdown",
      "source": "<h3 style=\"font-family:Times New Roman;color:gray\">Пример файла CSV с координатами</h3>",
      "metadata": {},
      "id": "f9fe4491"
    },
    {
      "cell_type": "code",
      "source": "import io\nimport pandas as pd\nimport base64\nfrom IPython.display import FileLink\nfrom ipywidgets import HTML\n\ndef create_download_link(df, title = \"Скачать пример в CSV file \", filename = \"data.csv\"):  \n    csv = df.to_csv(sep=';', encoding='utf-8-sig', index=False)\n    b64 = base64.b64encode(csv.encode('utf-8-sig'))\n    payload = b64.decode()\n    html = '<a download=\"{filename}\" href=\"data:text/csv;base64,{payload}\" target=\"_blank\">{title}</a>'\n    html = html.format(payload=payload,title=title,filename=filename)\n    return HTML(html)\n\ncsv_data = pd.read_csv(\"resources/csv_coords.test\", delimiter=';', encoding ='utf-8')\ncreate_download_link(csv_data)",
      "metadata": {
        "code_folding": [
          6
        ]
      },
      "execution_count": null,
      "outputs": [],
      "id": "2062213d"
    },
    {
      "cell_type": "markdown",
      "source": "<h2 style=\"font-family:Times New Roman;color:gray\">Загрузите файл формат CSV c координатами</h2>",
      "metadata": {},
      "id": "17512a58"
    },
    {
      "cell_type": "code",
      "source": "import ipywidgets as widgets\n\nuploader = widgets.FileUpload(\n    accept='.xlsx',  # Accepted file extension e.g. '.txt', '.pdf', 'image/*', 'image/*,.pdf'\n    multiple=False  # True to accept multiple files upload else False\n)\nflag_upload = 'csv'\nuploader = widgets.FileUpload()\ndisplay(uploader)",
      "metadata": {
        "code_folding": [
          2
        ]
      },
      "execution_count": null,
      "outputs": [],
      "id": "f99e4898"
    },
    {
      "cell_type": "markdown",
      "source": "<h3 style=\"font-family:Times New Roman;color:gray\">Предпросмотр CSV с координатами</h3>",
      "metadata": {},
      "id": "5343d43b"
    },
    {
      "cell_type": "code",
      "source": "import io\nimport openpyxl\nfrom pandas import ExcelFile\nimport pandas as pd\n\nuploaded_file = uploader.value[0]\nprint(uploaded_file.name)\ncsv_data = pd.read_csv(io.BytesIO(uploaded_file.content.tobytes()), delimiter=';', encoding ='utf-8')\ncsv_data",
      "metadata": {},
      "execution_count": null,
      "outputs": [],
      "id": "f493c478"
    },
    {
      "cell_type": "markdown",
      "source": "[Как преобразовать файлы Excel в формат CSV](https://office-guru.ru/excel/kak-preobrazovat-excel-v-csv-i-eksportirovat-faily-excel-v-format-csv-utf-8-456.html#2>)",
      "metadata": {},
      "id": "391463bc"
    },
    {
      "cell_type": "markdown",
      "source": "<h2 style=\"font-family: 'Times New Roman';color:blue\">Cкрипт создания матрицы расстояний</h2>",
      "metadata": {},
      "id": "6477c8d6"
    },
    {
      "cell_type": "code",
      "source": "trip = widgets.Dropdown(\n    options=[('Авто', 1), ('Байк', 2), ('Пешком', 3), ('Euclidian', 4)],\n    value=4,\n    description='Выберите из списка:',\n)\ntrip",
      "metadata": {
        "code_folding": [],
        "tags": [],
        "trusted": true
      },
      "execution_count": 55,
      "outputs": [
        {
          "execution_count": 46,
          "output_type": "execute_result",
          "data": {
            "text/plain": "Dropdown(description='Выберите из списка:', index=3, options=(('Авто', 1), ('Байк', 2), ('Пешком', 3), ('Eucli…",
            "application/vnd.jupyter.widget-view+json": {
              "version_major": 2,
              "version_minor": 0,
              "model_id": "c7bc8b8c6d5f43068ec76ea9136f7a16"
            }
          },
          "metadata": {}
        }
      ],
      "id": "7a8967d5"
    },
    {
      "cell_type": "markdown",
      "source": "<h2 style=\"font-family: 'Times New Roman';color:blue\">Ограничение по количеству расчетов</h2>",
      "metadata": {},
      "id": "1eaa8a24"
    },
    {
      "cell_type": "code",
      "source": "calc_limit = widgets.IntText(\n    value=0,\n    description='Число:',\n    disabled=False\n)\ncalc_limit",
      "metadata": {
        "tags": [],
        "trusted": true
      },
      "execution_count": 56,
      "outputs": [
        {
          "execution_count": 47,
          "output_type": "execute_result",
          "data": {
            "text/plain": "IntText(value=0, description='Число:')",
            "application/vnd.jupyter.widget-view+json": {
              "version_major": 2,
              "version_minor": 0,
              "model_id": "ad222642e36d4a749253c204c1b4446e"
            }
          },
          "metadata": {}
        }
      ],
      "id": "a06e5d2f"
    },
    {
      "cell_type": "code",
      "source": "## http://map.project-osrm.org/\n%pip install -q ssl\n\nimport os\nimport time\nimport json\nimport pprint\nimport requests\n\nfrom openpyxl import Workbook, load_workbook\nfrom openpyxl.worksheet import worksheet\n# from tqdm import tqdm\n\nimport pandas as pd\nfrom pandas import DataFrame\n\nimport wgsdistance\n\n\nimport json\nfrom pyodide import to_js\nfrom IPython.display import JSON\nfrom js import Object, fetch\n\n\nwb = Workbook()\n\nglobal trip\nglobal calc_limit\n\ntype_driving = \"routed-car\"\n\nif trip.value == 1:\n    type_driving = \"routed-car\"\nelif trip.value == 2:\n    type_driving = \"routed-bike\"\nelif trip.value == 3:\n    type_driving = \"routed-foot\"\nelif trip.value == 4:\n    type_driving = \"routed-euclidian\"\n\nasync def get_distance_osrm(coordinates, coord_list):\n\n    global type_driving\n    \n    # coordinates = '30.613808,46.471085;29.234447,47.997272'\n    # r1 = f'http://router.project-osrm.org/route/v1/{type_driving}/{coordinates}?overview=false'\n    r1 = f'https://routing.openstreetmap.de/{type_driving}/route/v1/driving/{coordinates}?overview=false&alternatives=true&steps=false'\n    \n    i = 8\n    \n    while i > 0:\n        r1 = f'https://routing.openstreetmap.de/{type_driving}/route/v1/driving/{coordinates}?overview=false&alternatives=true&steps=false'\n        resp = await fetch(r1, method=\"GET\", headers=Object.fromEntries(to_js({ \"Content-Type\": \"application/json\" })),)\n        x = resp.headers.get('Cache-Control')\n        if x == 'max-age=0':\n            break\n        else:\n            break\n            i -= 1\n            time.sleep(10)\n            \n    res = await resp.text()\n    res_json = json.loads(res)\n    \n    return res_json, r1\n\n\ndef import_data_excel():\n    \n    global excel_data\n    \n    # wb1 = load_workbook(io.BytesIO(uploader.data[-1]))\n    wb1 = load_workbook(io.BytesIO(uploaded_file.content))\n    \n    sheets_list = wb1.sheetnames\n    wsdata = wb1[sheets_list[0]]\n    \n    use_min_row = 2\n    use_min_col = 1\n    use_max_col = 3\n    use_max_row = wsdata.max_row\n    \n    row_fields = worksheet.Worksheet.iter_rows(wsdata, min_row=use_min_row,\n                                               max_row=use_max_row,\n                                               min_col=use_min_col,\n                                               max_col=use_max_col)\n    for b in row_fields:\n        yield b\n\n\ndef get_data_matrix_excel():\n\n    coords_pull = []\n    matrix_out = []\n    j = 0\n    \n    for z4 in import_data_excel():\n        z4_list = []\n        for i, u in enumerate(z4):\n            if not u.value is None:\n                z4_list.append(u.value)\n\n        z4_list = [u.value for u in z4[:] if not u.value is None]\n        if z4_list:\n            j += 1\n            coords_pull.append([j, z4_list[0], z4_list[1], z4_list[2]])\n\n    first_list = coords_pull\n    matrix_out = []\n\n    while first_list:\n        s = first_list.pop(0)\n        matrix_out.extend([[s, b] for b in [h for h in first_list]])\n    return matrix_out\n\n\ndef import_data_csv():\n    \n    global csv_data\n    \n    locate = list(csv_data['location'])\n    lat = list(csv_data['latitude'])\n    lon = list(csv_data['lontitude'])\n    \n    for b in zip(locate, lat, lon):\n        yield(b)\n\n\n# def get_progress(mtx):\n#     for i in tqdm(range(mtx)):\n#         yield 0\n        \n        \ndef get_data_matrix():\n\n    global flag_upload\n    \n    if flag_upload == 'csv':\n        print('Источник данных .csv')\n        j = 0\n        coords_pull = []\n        matrix_out = []\n\n        for z in import_data_csv():\n            j += 1\n            coords_pull.append([j, z[0], z[1], z[2]])\n\n        while coords_pull:\n            s = coords_pull.pop(0)\n            matrix_out.extend([[s, b] for b in [h for h in coords_pull]])\n    \n    elif flag_upload == 'xlsx':\n        print('Источник данных .xlsx')\n        matrix_out = get_data_matrix_excel()\n\n    return matrix_out\n\n\nasync def add_data_list(matrix_out):\n    \n    wb.create_sheet(\"array\")\n    wsarray = wb['array']\n    \n    # br = get_progress(len(matrix_out)*2)\n    quit = 0\n    \n    for b in matrix_out:\n        \n        if quit >= calc_limit.value and calc_limit.value > 0:\n            wsarray.cell(row=b[0][0], column=b[1][0]).value = 0\n            # next(br)\n            quit += 1\n            wsarray.cell(row=b[1][0], column=b[0][0]).value = 0\n            # next(br)\n            quit += 1\n        else:\n\n            r = [str(b[0][3]), str(b[0][2]), str(b[1][3]), str(b[1][2])]\n            coordinates = f'{r[0]},{r[1]};{r[2]},{r[3]}'\n            coord_list = [float(r[1]), float(r[0]), float(r[3]), float(r[2])]\n            coord_one = [coord_list[0], coord_list[1]]\n            coord_two = [coord_list[2], coord_list[3]]\n            \n            if type_driving == \"routed-euclidian\":\n                dist_km, ang = wgsdistance.distpointwgs84(coord_one, coord_two)\n                wsarray.cell(row=b[1][0], column=b[0][0]).value = round(dist_km / 1000, 2)\n                wsarray.cell(row=b[0][0], column=b[1][0]).value = round(dist_km / 1000, 2)\n                # print('Ok', coord_one, coord_two, 'Euclidian')\n                \n                for m in range(0, 2):\n                    # next(br)\n                    quit += 1\n    \n            else:\n                res, web_link = await get_distance_osrm(coordinates, coord_list)\n                \n                if res['code'] == 'Ok':\n                    \n                    y = res['routes'][0]\n                    legs = y['legs'][0]\n                    dist_meters = legs['distance']\n                    dist_km = round(dist_meters / 1000, 3)\n\n                    wsarray.cell(row=b[0][0], column=b[1][0]).value = dist_km\n                    # print(b[0][0], b[0][1], b[1][0], b[1][1], dist_km)\n                else:\n                    print(res['code'], coordinates, web_link)\n                    wsarray.cell(row=b[0][0], column=b[1][0]).value = 0\n\n                # next(br)\n                quit += 1\n\n                r = [str(b[1][3]), str(b[1][2]), str(b[0][3]), str(b[0][2])]\n                coordinates = f'{r[0]},{r[1]};{r[2]},{r[3]}'\n                coord_list = [float(r[1]), float(r[0]), float(r[3]), float(r[2])]\n                \n                res, web_link = await get_distance_osrm(coordinates, coord_list)\n                \n                if res['code'] == 'Ok':\n                    y = res['routes'][0]\n                    legs = y['legs'][0]\n                    dist_meters = legs['distance']\n                    dist_km = round(dist_meters / 1000, 3)\n\n                    wsarray.cell(row=b[1][0], column=b[0][0]).value = dist_km\n                    # print(b[1][0], b[1][1], b[0][0], b[0][1],  dist_km)\n                else:\n                    print(res['code'], coordinates, web_link)\n                    wsarray.cell(row=b[1][0], column=b[0][0]).value = 0\n                # next(br)\n                quit += 1\n    try:\n        # next(br)\n        pass\n    except Exception:\n        pass\n                   \n    wsarray.insert_cols(0)\n    \n    if flag_upload == 'csv':\n        for i, b in enumerate(list(csv_data['location'])):\n            wsarray.cell(row=i+1, column=1).value = b\n    elif flag_upload == 'xlsx':\n        for i, b in enumerate(list(dataframe['location'])):\n            wsarray.cell(row=i+1, column=1).value = b\n\n    return wsarray\n\n\nif __name__ == '__main__':\n\n    print(f'Задано ограничение по кол-ву расчетов: {calc_limit.value}')\n    matrix_out = get_data_matrix()\n    sheet_openpyxl = await add_data_list(matrix_out)   \n    \n    if flag_upload == 'csv':\n        head_name = list(csv_data['location'])\n    elif flag_upload == 'xlsx':\n        head_name = list(dataframe['location'])\n    head_name.insert(0, '*')\n    new_df = pd.DataFrame(sheet_openpyxl.values, columns=head_name)\n    print('ok')",
      "metadata": {
        "code_folding": [
          28,
          54,
          75,
          102,
          114,
          121,
          146,
          215
        ],
        "scrolled": true,
        "tags": [],
        "trusted": true
      },
      "execution_count": 71,
      "outputs": [
        {
          "name": "stdout",
          "text": "Задано ограничение по кол-ву расчетов: 0\nИсточник данных .xlsx\nok\n",
          "output_type": "stream"
        }
      ],
      "id": "1ff1330e"
    },
    {
      "cell_type": "markdown",
      "source": "<h2 style=\"font-family:Times New Roman;color:gray\">Скачать матрицу в CSV file</h2>",
      "metadata": {},
      "id": "850fec75"
    },
    {
      "cell_type": "code",
      "source": "import base64\nfrom IPython.display import FileLink\nfrom ipywidgets import HTML\n\ndef create_download_link(df, title = \"Скачать матрицу в CSV file \", filename = \"matrix_dist.csv\"):  \n    csv = df.to_csv(sep=';', encoding='utf-8-sig', index=False)\n    b64 = base64.b64encode(csv.encode('utf-8-sig'))\n    payload = b64.decode()\n    html = '<a download=\"{filename}\" href=\"data:text/csv;base64,{payload}\" target=\"_blank\">{title}</a>'\n    html = html.format(payload=payload,title=title,filename=filename)\n    return HTML(html)\n\ncreate_download_link(new_df)",
      "metadata": {
        "code_folding": [
          4
        ]
      },
      "execution_count": null,
      "outputs": [],
      "id": "055f6200"
    },
    {
      "cell_type": "markdown",
      "source": "<h2 style=\"font-family:Times New Roman;\">Скачать матрицу в Excel .xlsx</h2>",
      "metadata": {},
      "id": "5ec856ca"
    },
    {
      "cell_type": "code",
      "source": "import base64\nfrom IPython.display import FileLink\nfrom ipywidgets import HTML\nfrom pandas import ExcelFile, ExcelWriter\n\n\ndef create_download_link_excel(df, title = \"Скачайте матрицу расстояний в Excel .xlsx\", filename = \"matrix_dist.xlsx\"):  \n    output = io.BytesIO()\n    with ExcelWriter(output, engine='openpyxl') as writer:\n        df.to_excel(writer, sheet_name='array', index=False)\n    \n    excel_data = output.getvalue()\n    b64 = base64.b64encode(excel_data)\n    payload = b64.decode()\n    \n    html = '<a download=\"{filename}\" href=\"data:text/xml;base64,{payload}\" target=\"_blank\">{title}</a>'\n    html = html.format(payload=payload,title=title,filename=filename)\n    \n    return HTML(html)\n\ncreate_download_link_excel(new_df)",
      "metadata": {
        "code_folding": [
          6
        ],
        "tags": [],
        "trusted": true
      },
      "execution_count": 66,
      "outputs": [
        {
          "execution_count": 56,
          "output_type": "execute_result",
          "data": {
            "text/plain": "HTML(value='<a download=\"matrix_dist.xlsx\" href=\"data:text/xml;base64,UEsDBBQAAAAIAKIBJVYHQU1igQAAALEAAAAQAAAA…",
            "application/vnd.jupyter.widget-view+json": {
              "version_major": 2,
              "version_minor": 0,
              "model_id": "ffdffb6bec4243b29c030499426d7df7"
            }
          },
          "metadata": {}
        }
      ],
      "id": "825baf74"
    },
    {
      "cell_type": "markdown",
      "source": "<h2 style=\"font-family:Times New Roman;\">Создать ZIP и сохранить как файл в папку temp</h2>",
      "metadata": {},
      "id": "1b3fec38-3614-43c4-84a1-5211813af8a5"
    },
    {
      "cell_type": "code",
      "source": "import os\ntry:\n    tmpath = f'temp'\n    os.mkdir(tmpath)\nexcept Exception as ex:\n    pass\n\ncompression_opts = dict(method='zip', archive_name='out.csv')  \nnew_df.to_csv(f'{tmpath}/out.zip', index=False, compression=compression_opts) ",
      "metadata": {},
      "execution_count": null,
      "outputs": [],
      "id": "544bd915"
    },
    {
      "cell_type": "markdown",
      "source": "<h2 style=\"font-family:Times New Roman;\">Создать (XLSX) и сохранить как файл в папку temp</h2>",
      "metadata": {},
      "id": "bbc5c679-366e-4f30-8740-5b18be5db01c"
    },
    {
      "cell_type": "code",
      "source": "import os\ntry:\n    tmpath = f'temp'\n    os.mkdir(tmpath)\nexcept Exception as ex:\n    pass\n\nfile_name = 'MarksData.xlsx'\nnew_df.to_excel(f'{tmpath}/{file_name}')\nprint('DataFrame is written to Excel File successfully.')",
      "metadata": {
        "tags": []
      },
      "execution_count": null,
      "outputs": [],
      "id": "f16a373c-794d-42b9-9200-b3cdd4d92049"
    },
    {
      "cell_type": "code",
      "source": "import json\nfrom pyodide import to_js\nfrom IPython.display import JSON\nfrom js import Object, fetch\nimport asyncio\n\nasync def ss():\n    coordinates = '30.613808,46.471085;29.234447,47.997272'\n    r1 = f'https://routing.openstreetmap.de/{type_driving}/route/v1/driving/{coordinates}?overview=false&alternatives=true&steps=false'\n    resp = await fetch(r1, method=\"GET\", headers=Object.fromEntries(to_js({ \"Content-Type\": \"application/json\" })),)\n    res = await resp.text()\n    res_json = json.loads(res)\n    \n    return res_json\n    \nr = await ss()\n# loop = asyncio.get_event_loop()\n# loop.run_until_complete(ss())\nprint(r)",
      "metadata": {
        "trusted": true
      },
      "execution_count": 59,
      "outputs": [
        {
          "name": "stdout",
          "text": "{'code': 'Ok', 'routes': [{'legs': [{'steps': [], 'summary': '', 'weight': 58057.9, 'duration': 58057.9, 'distance': 244351.7}], 'weight_name': 'duration', 'weight': 58057.9, 'duration': 58057.9, 'distance': 244351.7}, {'legs': [{'steps': [], 'summary': '', 'weight': 61776, 'duration': 61776, 'distance': 260646.5}], 'weight_name': 'duration', 'weight': 61776, 'duration': 61776, 'distance': 260646.5}], 'waypoints': [{'hint': 'KE1ch0FNXIcJAQAADgEAAAAAAAAAAAAAgMPdQgZ44EIAAAAAAAAAAAkBAAAOAQAAAAAAAAAAAADgDgAAqiLTAc8XxQIwIdMBrRfFAgAADxY0SkXS', 'distance': 29.274553386, 'name': 'Авангардовська вулиця', 'location': [30.614186, 46.471119]}, {'hint': 'UszXhjzNBokdAQAANAEAAAAAAAAAAAAAMx_uQqwuAEMAAAAAAAAAAB0BAAA0AQAAAAAAAAAAAADgDgAA7xG-ASVj3AIPFb4BWGHcAgAAjwI0SkXS', 'distance': 78.708342376, 'name': 'Крутівська вулиця', 'location': [29.233647, 47.997733]}]}\n",
          "output_type": "stream"
        }
      ],
      "id": "9f5133a7-d38b-41b4-a0e9-7de1bc562ac9"
    },
    {
      "cell_type": "code",
      "source": "",
      "metadata": {},
      "execution_count": null,
      "outputs": [],
      "id": "a08f8a59-2a12-4d78-9018-99e5b7bdaf43"
    }
  ]
}
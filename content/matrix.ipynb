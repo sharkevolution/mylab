{
  "metadata": {
    "interpreter": {
      "hash": "213e3cdfa7e49a72da46e33368d188e831bf06b855f4b34975d8e787861861ab"
    },
    "metadata": {
      "interpreter": {
        "hash": "213e3cdfa7e49a72da46e33368d188e831bf06b855f4b34975d8e787861861ab"
      }
    },
    "toc": {
      "base_numbering": 1,
      "nav_menu": {},
      "number_sections": true,
      "sideBar": true,
      "skip_h1_title": false,
      "title_cell": "Table of Contents",
      "title_sidebar": "Contents",
      "toc_cell": false,
      "toc_position": {
        "height": "calc(100% - 180px)",
        "left": "10px",
        "top": "150px",
        "width": "310px"
      },
      "toc_section_display": true,
      "toc_window_display": true
    },
    "kernelspec": {
      "name": "python",
      "display_name": "Python (Pyodide)",
      "language": "python"
    },
    "language_info": {
      "codemirror_mode": {
        "name": "python",
        "version": 3
      },
      "file_extension": ".py",
      "mimetype": "text/x-python",
      "name": "python",
      "nbconvert_exporter": "python",
      "pygments_lexer": "ipython3",
      "version": "3.8"
    }
  },
  "nbformat_minor": 5,
  "nbformat": 4,
  "cells": [
    {
      "cell_type": "markdown",
      "source": "<h1 style=\"font-family:Times New Roman;\">Расчет матрицы расстояний</h1>\n\n*Nikolay Sitala 2021, nsitala@ukr.net* \n>http://map.project-osrm.org",
      "metadata": {},
      "id": "1b89eaae"
    },
    {
      "cell_type": "markdown",
      "source": "<h3 style=\"font-family:Times New Roman;color:gray\">Пример файла Excel .xlsx с координатами</h3>",
      "metadata": {
        "tags": []
      },
      "id": "874e0be2"
    },
    {
      "cell_type": "code",
      "source": "try:\n    import piplite\n    await piplite.install(['ipywidgets==8', 'openpyxl', 'pandas', 'requests', 'tqdm', 'ssl'])\nexcept ImportError:\n    pass\n\nimport doexample\ndoexample.start(\"resources/xlsx_coords.test\", \"coord_example.xlsx\")",
      "metadata": {
        "tags": [],
        "trusted": true
      },
      "execution_count": null,
      "outputs": [],
      "id": "7063406e"
    },
    {
      "cell_type": "markdown",
      "source": "<h2 style=\"font-family:Times New Roman;\">Загрузите файл .xlsx c координатами</h2>",
      "metadata": {},
      "id": "43cd27d0"
    },
    {
      "cell_type": "code",
      "source": "import ipywidgets as widgets\n\nuploader = widgets.FileUpload(\n    accept='.xlsx',  # Accepted file extension e.g. '.txt', '.pdf', 'image/*', 'image/*,.pdf'\n    multiple=False  # True to accept multiple files upload else False\n)\nflag_upload = 'xlsx'\nuploader = widgets.FileUpload()\ndisplay(uploader)",
      "metadata": {
        "code_folding": [
          2
        ],
        "tags": [],
        "trusted": true
      },
      "execution_count": null,
      "outputs": [],
      "id": "83f0855d"
    },
    {
      "cell_type": "markdown",
      "source": "<h3 style=\"font-family: 'Times New Roman'\">Предпросмотр .xlsx с координатами</h3>",
      "metadata": {},
      "id": "e0a76f9f"
    },
    {
      "cell_type": "code",
      "source": "import io\nimport openpyxl\nfrom pandas import ExcelFile\n\nuploaded_file = uploader.value[0]\nprint(uploaded_file.name)\nexcel_data = ExcelFile(io.BytesIO(uploaded_file.content.tobytes()), engine='openpyxl')\ndataframe = excel_data.parse(excel_data.sheet_names[0])\ndataframe",
      "metadata": {
        "tags": [],
        "trusted": true
      },
      "execution_count": null,
      "outputs": [],
      "id": "d3e92a1f"
    },
    {
      "cell_type": "markdown",
      "source": "<h3 style=\"font-family:Times New Roman;color:gray\">Пример файла CSV с координатами</h3>",
      "metadata": {},
      "id": "f9fe4491"
    },
    {
      "cell_type": "code",
      "source": "import io\nimport pandas as pd\nimport base64\nfrom IPython.display import FileLink\nfrom ipywidgets import HTML\n\ndef create_download_link(df, title = \"Скачать пример в CSV file \", filename = \"data.csv\"):  \n    csv = df.to_csv(sep=';', encoding='utf-8-sig', index=False)\n    b64 = base64.b64encode(csv.encode('utf-8-sig'))\n    payload = b64.decode()\n    html = '<a download=\"{filename}\" href=\"data:text/csv;base64,{payload}\" target=\"_blank\">{title}</a>'\n    html = html.format(payload=payload,title=title,filename=filename)\n    return HTML(html)\n\ncsv_data = pd.read_csv(\"resources/csv_coords.test\", delimiter=';', encoding ='utf-8')\ncreate_download_link(csv_data)",
      "metadata": {
        "code_folding": [
          6
        ]
      },
      "execution_count": null,
      "outputs": [],
      "id": "2062213d"
    },
    {
      "cell_type": "markdown",
      "source": "<h2 style=\"font-family:Times New Roman;color:gray\">Загрузите файл формат CSV c координатами</h2>",
      "metadata": {},
      "id": "17512a58"
    },
    {
      "cell_type": "code",
      "source": "import ipywidgets as widgets\n\nuploader = widgets.FileUpload(\n    accept='.xlsx',  # Accepted file extension e.g. '.txt', '.pdf', 'image/*', 'image/*,.pdf'\n    multiple=False  # True to accept multiple files upload else False\n)\nflag_upload = 'csv'\nuploader = widgets.FileUpload()\ndisplay(uploader)",
      "metadata": {
        "code_folding": [
          2
        ]
      },
      "execution_count": null,
      "outputs": [],
      "id": "f99e4898"
    },
    {
      "cell_type": "markdown",
      "source": "<h3 style=\"font-family:Times New Roman;color:gray\">Предпросмотр CSV с координатами</h3>",
      "metadata": {},
      "id": "5343d43b"
    },
    {
      "cell_type": "code",
      "source": "import io\nimport openpyxl\nfrom pandas import ExcelFile\nimport pandas as pd\n\nuploaded_file = uploader.value[0]\nprint(uploaded_file.name)\ncsv_data = pd.read_csv(io.BytesIO(uploaded_file.content.tobytes()), delimiter=';', encoding ='utf-8')\ncsv_data",
      "metadata": {},
      "execution_count": null,
      "outputs": [],
      "id": "f493c478"
    },
    {
      "cell_type": "markdown",
      "source": "[Как преобразовать файлы Excel в формат CSV](https://office-guru.ru/excel/kak-preobrazovat-excel-v-csv-i-eksportirovat-faily-excel-v-format-csv-utf-8-456.html#2>)",
      "metadata": {},
      "id": "391463bc"
    },
    {
      "cell_type": "markdown",
      "source": "<h2 style=\"font-family: 'Times New Roman';color:blue\">Cкрипт создания матрицы расстояний</h2>",
      "metadata": {},
      "id": "6477c8d6"
    },
    {
      "cell_type": "code",
      "source": "trip = widgets.Dropdown(\n    options=[('Авто', 1), ('Байк', 2), ('Пешком', 3), ('Euclidian', 4)],\n    value=4,\n    description='Выберите из списка:',\n)\ntrip",
      "metadata": {
        "code_folding": [],
        "tags": [],
        "trusted": true
      },
      "execution_count": null,
      "outputs": [],
      "id": "7a8967d5"
    },
    {
      "cell_type": "markdown",
      "source": "<h2 style=\"font-family: 'Times New Roman';color:blue\">Ограничение по количеству расчетов</h2>",
      "metadata": {},
      "id": "1eaa8a24"
    },
    {
      "cell_type": "code",
      "source": "calc_limit = widgets.IntText(\n    value=0,\n    description='Число:',\n    disabled=False\n)\ncalc_limit",
      "metadata": {
        "tags": [],
        "trusted": true
      },
      "execution_count": null,
      "outputs": [],
      "id": "a06e5d2f"
    },
    {
      "cell_type": "code",
      "source": "## http://map.project-osrm.org/\n%pip install -q ssl\n\nimport os\nimport io\nimport time\nimport json\nimport pprint\nimport requests\n\nfrom openpyxl import Workbook, load_workbook\nfrom openpyxl.worksheet import worksheet\n# from tqdm import tqdm\n\nimport pandas as pd\nfrom pandas import DataFrame\n\nimport wgsdistance\n\n\nimport json\nfrom pyodide import to_js\nfrom IPython.display import JSON\nfrom js import Object, fetch\n\n\nwb = Workbook()\n\nglobal trip\nglobal calc_limit\n\ntype_driving = \"routed-car\"\n\nif trip.value == 1:\n    type_driving = \"routed-car\"\nelif trip.value == 2:\n    type_driving = \"routed-bike\"\nelif trip.value == 3:\n    type_driving = \"routed-foot\"\nelif trip.value == 4:\n    type_driving = \"routed-euclidian\"\n\nasync def get_distance_osrm(coordinates, coord_list):\n\n    global type_driving\n    \n    # coordinates = '30.613808,46.471085;29.234447,47.997272'\n    # r1 = f'http://router.project-osrm.org/route/v1/{type_driving}/{coordinates}?overview=false'\n    r1 = f'https://routing.openstreetmap.de/{type_driving}/route/v1/driving/{coordinates}?overview=false&alternatives=true&steps=false'\n    \n    i = 8\n    \n    while i > 0:\n        r1 = f'https://routing.openstreetmap.de/{type_driving}/route/v1/driving/{coordinates}?overview=false&alternatives=true&steps=false'\n        resp = await fetch(r1, method=\"GET\", headers=Object.fromEntries(to_js({ \"Content-Type\": \"application/json\" })),)\n        x = resp.headers.get('Cache-Control')\n        if x == 'max-age=0':\n            break\n        else:\n            break\n            i -= 1\n            time.sleep(10)\n            \n    res = await resp.text()\n    res_json = json.loads(res)\n    \n    return res_json, r1\n\n\ndef import_data_excel():\n    \n    global excel_data\n    \n    # wb1 = load_workbook(io.BytesIO(uploader.data[-1]))\n    wb1 = load_workbook(io.BytesIO(uploaded_file.content))\n    \n    sheets_list = wb1.sheetnames\n    wsdata = wb1[sheets_list[0]]\n    \n    use_min_row = 2\n    use_min_col = 1\n    use_max_col = 3\n    use_max_row = wsdata.max_row\n    \n    row_fields = worksheet.Worksheet.iter_rows(wsdata, min_row=use_min_row,\n                                               max_row=use_max_row,\n                                               min_col=use_min_col,\n                                               max_col=use_max_col)\n    for b in row_fields:\n        yield b\n\n\ndef get_data_matrix_excel():\n\n    coords_pull = []\n    matrix_out = []\n    j = 0\n    \n    for z4 in import_data_excel():\n        z4_list = []\n        for i, u in enumerate(z4):\n            if not u.value is None:\n                z4_list.append(u.value)\n\n        z4_list = [u.value for u in z4[:] if not u.value is None]\n        if z4_list:\n            j += 1\n            coords_pull.append([j, z4_list[0], z4_list[1], z4_list[2]])\n\n    first_list = coords_pull\n    matrix_out = []\n\n    while first_list:\n        s = first_list.pop(0)\n        matrix_out.extend([[s, b] for b in [h for h in first_list]])\n    return matrix_out\n\n\ndef import_data_csv():\n    \n    global csv_data\n    \n    locate = list(csv_data['location'])\n    lat = list(csv_data['latitude'])\n    lon = list(csv_data['lontitude'])\n    \n    for b in zip(locate, lat, lon):\n        yield(b)\n\n\n# def get_progress(mtx):\n#     for i in tqdm(range(mtx)):\n#         yield 0\n        \n        \ndef get_data_matrix():\n\n    global flag_upload\n    \n    if flag_upload == 'csv':\n        print('Источник данных .csv')\n        j = 0\n        coords_pull = []\n        matrix_out = []\n\n        for z in import_data_csv():\n            j += 1\n            coords_pull.append([j, z[0], z[1], z[2]])\n\n        while coords_pull:\n            s = coords_pull.pop(0)\n            matrix_out.extend([[s, b] for b in [h for h in coords_pull]])\n    \n    elif flag_upload == 'xlsx':\n        print('Источник данных .xlsx')\n        matrix_out = get_data_matrix_excel()\n\n    return matrix_out\n\n\nasync def add_data_list(matrix_out):\n    \n    wb.create_sheet(\"array\")\n    wsarray = wb['array']\n    \n    # br = get_progress(len(matrix_out)*2)\n    quit = 0\n    \n    for b in matrix_out:\n        \n        if quit >= calc_limit.value and calc_limit.value > 0:\n            wsarray.cell(row=b[0][0], column=b[1][0]).value = 0\n            # next(br)\n            quit += 1\n            wsarray.cell(row=b[1][0], column=b[0][0]).value = 0\n            # next(br)\n            quit += 1\n        else:\n\n            r = [str(b[0][3]), str(b[0][2]), str(b[1][3]), str(b[1][2])]\n            coordinates = f'{r[0]},{r[1]};{r[2]},{r[3]}'\n            coord_list = [float(r[1]), float(r[0]), float(r[3]), float(r[2])]\n            coord_one = [coord_list[0], coord_list[1]]\n            coord_two = [coord_list[2], coord_list[3]]\n            \n            if type_driving == \"routed-euclidian\":\n                dist_km, ang = wgsdistance.distpointwgs84(coord_one, coord_two)\n                wsarray.cell(row=b[1][0], column=b[0][0]).value = round(dist_km / 1000, 2)\n                wsarray.cell(row=b[0][0], column=b[1][0]).value = round(dist_km / 1000, 2)\n                # print('Ok', coord_one, coord_two, 'Euclidian')\n                \n                for m in range(0, 2):\n                    # next(br)\n                    quit += 1\n    \n            else:\n                res, web_link = await get_distance_osrm(coordinates, coord_list)\n                \n                if res['code'] == 'Ok':\n                    \n                    y = res['routes'][0]\n                    legs = y['legs'][0]\n                    dist_meters = legs['distance']\n                    dist_km = round(dist_meters / 1000, 3)\n\n                    wsarray.cell(row=b[0][0], column=b[1][0]).value = dist_km\n                    # print(b[0][0], b[0][1], b[1][0], b[1][1], dist_km)\n                else:\n                    print(res['code'], coordinates, web_link)\n                    wsarray.cell(row=b[0][0], column=b[1][0]).value = 0\n\n                # next(br)\n                quit += 1\n\n                r = [str(b[1][3]), str(b[1][2]), str(b[0][3]), str(b[0][2])]\n                coordinates = f'{r[0]},{r[1]};{r[2]},{r[3]}'\n                coord_list = [float(r[1]), float(r[0]), float(r[3]), float(r[2])]\n                \n                res, web_link = await get_distance_osrm(coordinates, coord_list)\n                \n                if res['code'] == 'Ok':\n                    y = res['routes'][0]\n                    legs = y['legs'][0]\n                    dist_meters = legs['distance']\n                    dist_km = round(dist_meters / 1000, 3)\n\n                    wsarray.cell(row=b[1][0], column=b[0][0]).value = dist_km\n                    # print(b[1][0], b[1][1], b[0][0], b[0][1],  dist_km)\n                else:\n                    print(res['code'], coordinates, web_link)\n                    wsarray.cell(row=b[1][0], column=b[0][0]).value = 0\n                # next(br)\n                quit += 1\n    try:\n        # next(br)\n        pass\n    except Exception:\n        pass\n                   \n    wsarray.insert_cols(0)\n    \n    if flag_upload == 'csv':\n        for i, b in enumerate(list(csv_data['location'])):\n            wsarray.cell(row=i+1, column=1).value = b\n    elif flag_upload == 'xlsx':\n        for i, b in enumerate(list(dataframe['location'])):\n            wsarray.cell(row=i+1, column=1).value = b\n\n    return wsarray\n\n\nif __name__ == '__main__':\n\n    print(f'Задано ограничение по кол-ву расчетов: {calc_limit.value}')\n    matrix_out = get_data_matrix()\n    sheet_openpyxl = await add_data_list(matrix_out)   \n    \n    if flag_upload == 'csv':\n        head_name = list(csv_data['location'])\n    elif flag_upload == 'xlsx':\n        head_name = list(dataframe['location'])\n    head_name.insert(0, '*')\n    new_df = pd.DataFrame(sheet_openpyxl.values, columns=head_name)\n    print('ok')",
      "metadata": {
        "code_folding": [
          28,
          54,
          75,
          102,
          114,
          121,
          146,
          215
        ],
        "scrolled": true,
        "tags": [],
        "trusted": true
      },
      "execution_count": null,
      "outputs": [],
      "id": "1ff1330e"
    },
    {
      "cell_type": "markdown",
      "source": "<h2 style=\"font-family:Times New Roman;color:gray\">Скачать матрицу в CSV file</h2>",
      "metadata": {},
      "id": "850fec75"
    },
    {
      "cell_type": "code",
      "source": "import base64\nfrom IPython.display import FileLink\nfrom ipywidgets import HTML\n\ndef create_download_link(df, title = \"Скачать матрицу в CSV file \", filename = \"matrix_dist.csv\"):  \n    csv = df.to_csv(sep=';', encoding='utf-8-sig', index=False)\n    b64 = base64.b64encode(csv.encode('utf-8-sig'))\n    payload = b64.decode()\n    html = '<a download=\"{filename}\" href=\"data:text/csv;base64,{payload}\" target=\"_blank\">{title}</a>'\n    html = html.format(payload=payload,title=title,filename=filename)\n    return HTML(html)\n\ncreate_download_link(new_df)",
      "metadata": {
        "code_folding": [
          4
        ]
      },
      "execution_count": null,
      "outputs": [],
      "id": "055f6200"
    },
    {
      "cell_type": "markdown",
      "source": "<h2 style=\"font-family:Times New Roman;\">Скачать матрицу в Excel .xlsx</h2>",
      "metadata": {},
      "id": "5ec856ca"
    },
    {
      "cell_type": "code",
      "source": "import base64\nfrom IPython.display import FileLink\nfrom ipywidgets import HTML\nfrom pandas import ExcelFile, ExcelWriter\n\n\ndef create_download_link_excel(df, title = \"Скачайте матрицу расстояний в Excel .xlsx\", filename = \"matrix_dist.xlsx\"):  \n    output = io.BytesIO()\n    with ExcelWriter(output, engine='openpyxl') as writer:\n        df.to_excel(writer, sheet_name='array', index=False)\n    \n    excel_data = output.getvalue()\n    b64 = base64.b64encode(excel_data)\n    payload = b64.decode()\n    \n    html = '<a download=\"{filename}\" href=\"data:text/xml;base64,{payload}\" target=\"_blank\">{title}</a>'\n    html = html.format(payload=payload,title=title,filename=filename)\n    \n    return HTML(html)\n\ncreate_download_link_excel(new_df)",
      "metadata": {
        "code_folding": [
          6
        ],
        "tags": [],
        "trusted": true
      },
      "execution_count": null,
      "outputs": [],
      "id": "825baf74"
    },
    {
      "cell_type": "markdown",
      "source": "<h2 style=\"font-family:Times New Roman;\">Создать ZIP и сохранить как файл в папку temp</h2>",
      "metadata": {},
      "id": "1b3fec38-3614-43c4-84a1-5211813af8a5"
    },
    {
      "cell_type": "code",
      "source": "import os\ntry:\n    tmpath = f'temp'\n    os.mkdir(tmpath)\nexcept Exception as ex:\n    pass\n\ncompression_opts = dict(method='zip', archive_name='out.csv')  \nnew_df.to_csv(f'{tmpath}/out.zip', index=False, compression=compression_opts) ",
      "metadata": {},
      "execution_count": null,
      "outputs": [],
      "id": "544bd915"
    },
    {
      "cell_type": "markdown",
      "source": "<h2 style=\"font-family:Times New Roman;\">Создать (XLSX) и сохранить как файл в папку temp</h2>",
      "metadata": {},
      "id": "bbc5c679-366e-4f30-8740-5b18be5db01c"
    },
    {
      "cell_type": "code",
      "source": "import os\ntry:\n    tmpath = f'temp'\n    os.mkdir(tmpath)\nexcept Exception as ex:\n    pass\n\nfile_name = 'MarksData.xlsx'\nnew_df.to_excel(f'{tmpath}/{file_name}')\nprint('DataFrame is written to Excel File successfully.')",
      "metadata": {
        "tags": []
      },
      "execution_count": null,
      "outputs": [],
      "id": "f16a373c-794d-42b9-9200-b3cdd4d92049"
    },
    {
      "cell_type": "code",
      "source": "import json\nfrom pyodide import to_js\nfrom IPython.display import JSON\nfrom js import Object, fetch\nimport asyncio\n\nasync def ss():\n    coordinates = '30.613808,46.471085;29.234447,47.997272'\n    r1 = f'https://routing.openstreetmap.de/{type_driving}/route/v1/driving/{coordinates}?overview=false&alternatives=true&steps=false'\n    resp = await fetch(r1, method=\"GET\", headers=Object.fromEntries(to_js({ \"Content-Type\": \"application/json\" })),)\n    res = await resp.text()\n    res_json = json.loads(res)\n    \n    return res_json\n    \nr = await ss()\n# loop = asyncio.get_event_loop()\n# loop.run_until_complete(ss())\nprint(r)",
      "metadata": {
        "trusted": true
      },
      "execution_count": null,
      "outputs": [],
      "id": "9f5133a7-d38b-41b4-a0e9-7de1bc562ac9"
    },
    {
      "cell_type": "code",
      "source": "",
      "metadata": {},
      "execution_count": null,
      "outputs": [],
      "id": "a08f8a59-2a12-4d78-9018-99e5b7bdaf43"
    }
  ]
}
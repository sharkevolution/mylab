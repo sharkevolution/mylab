{
 "cells": [
  {
   "cell_type": "markdown",
   "id": "5a6f6758-6694-40fe-9106-4f30e2971787",
   "metadata": {
    "tags": []
   },
   "source": [
    "<h1 style=\"font-family:Times New Roman;\">Простой генератор паролей</h1>\n",
    "\n",
    "*Nikolay Sitala 2021, nsitala@ukr.net* \n",
    ">Данные по материалам сайта https://sitala.netlify.app"
   ]
  },
  {
   "cell_type": "markdown",
   "id": "ea01c385-b9b2-4e39-b0c3-fea414be9494",
   "metadata": {
    "tags": []
   },
   "source": [
    "<h2 style=\"font-family: 'Times New Roman'\">Установите длину пароля</h2>"
   ]
  },
  {
   "cell_type": "code",
   "execution_count": 1,
   "id": "b30097a8-85df-4b6c-8e7d-69f91b74171f",
   "metadata": {},
   "outputs": [
    {
     "data": {
      "application/vnd.jupyter.widget-view+json": {
       "model_id": "47d0a91380ad4f00a2f52debd73d17a8",
       "version_major": 2,
       "version_minor": 0
      },
      "text/plain": [
       "IntSlider(value=7, continuous_update=False, description='Длина:', max=20, min=5)"
      ]
     },
     "execution_count": 1,
     "metadata": {},
     "output_type": "execute_result"
    }
   ],
   "source": [
    "import ipywidgets as widgets\n",
    "\n",
    "len_ = widgets.IntSlider(\n",
    "    value=7,\n",
    "    min=5,\n",
    "    max=20,\n",
    "    step=1,\n",
    "    description='Длина:',\n",
    "    disabled=False,\n",
    "    continuous_update=False,\n",
    "    orientation='horizontal',\n",
    "    readout=True,\n",
    "    readout_format='d')\n",
    "len_"
   ]
  },
  {
   "cell_type": "markdown",
   "id": "e7e05498-ebe3-42be-8e63-a881004bc7c9",
   "metadata": {
    "tags": []
   },
   "source": [
    "<h2 style=\"font-family: 'Times New Roman'\">Скрипт генератора паролей</h2>"
   ]
  },
  {
   "cell_type": "code",
   "execution_count": null,
   "id": "7dd2af06-ed54-406a-8756-4ca7b0b7b01d",
   "metadata": {
    "tags": []
   },
   "outputs": [],
   "source": [
    "from os import urandom\n",
    "import pandas as pd\n",
    "from ipydatagrid import DataGrid\n",
    "\n",
    "chars = \"ABCDEFGHJKLMNOPQRSTUVWXYZabcdefghjklmnopqrstuvwxyz0123456789_*$\"\n",
    "psgen = []\n",
    "\n",
    "\n",
    "def start_generation(count_password=15, passlen=8):\n",
    "    for b in range(0, count_password):\n",
    "        psgen.append(generate_temp_password(passlen))\n",
    "\n",
    "\n",
    "def generate_temp_password(length):\n",
    "    \"\"\" Генератор паролей\"\"\"\n",
    "    if not isinstance(length, int):\n",
    "        raise ValueError(\"temp password must have positive length\")\n",
    "        \n",
    "    return ''.join([chars[c % len(chars)] for c in urandom(length)])\n",
    "\n",
    "if __name__ == '__main__':\n",
    "    x = start_generation(passlen=len_.value)\n",
    "    lst = pd.DataFrame({\"ABCD\": psgen})\n",
    "    display(lst)"
   ]
  },
  {
   "cell_type": "code",
   "execution_count": null,
   "id": "42404ad7-3466-42bb-9845-165774306469",
   "metadata": {},
   "outputs": [],
   "source": []
  }
 ],
 "metadata": {
  "kernelspec": {
   "display_name": "Python 3 (ipykernel)",
   "language": "python",
   "name": "python3"
  },
  "language_info": {
   "codemirror_mode": {
    "name": "ipython",
    "version": 3
   },
   "file_extension": ".py",
   "mimetype": "text/x-python",
   "name": "python",
   "nbconvert_exporter": "python",
   "pygments_lexer": "ipython3",
   "version": "3.10.8"
  },
  "vscode": {
   "interpreter": {
    "hash": "83007bbbf7fc5b73d47dce18a7c1531d7bd7939d40f1d41c180c571c6a7728f4"
   }
  }
 },
 "nbformat": 4,
 "nbformat_minor": 5
}

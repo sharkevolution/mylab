{
  "metadata": {
    "vscode": {
      "interpreter": {
        "hash": "83007bbbf7fc5b73d47dce18a7c1531d7bd7939d40f1d41c180c571c6a7728f4"
      }
    },
    "kernelspec": {
      "name": "python",
      "display_name": "Python (Pyodide)",
      "language": "python"
    },
    "language_info": {
      "codemirror_mode": {
        "name": "python",
        "version": 3
      },
      "file_extension": ".py",
      "mimetype": "text/x-python",
      "name": "python",
      "nbconvert_exporter": "python",
      "pygments_lexer": "ipython3",
      "version": "3.8"
    }
  },
  "nbformat_minor": 5,
  "nbformat": 4,
  "cells": [
    {
      "cell_type": "markdown",
      "source": "<h1 style=\"font-family:Times New Roman;\">Простой генератор паролей</h1>\n\n*Nikolay Sitala 2023, nsitala@ukr.net* \n>Данные по материалам сайта https://sitala.netlify.app",
      "metadata": {
        "tags": []
      },
      "id": "5a6f6758-6694-40fe-9106-4f30e2971787"
    },
    {
      "cell_type": "markdown",
      "source": "<h2 style=\"font-family: 'Times New Roman'\">Установите длину пароля</h2>",
      "metadata": {
        "tags": []
      },
      "id": "ea01c385-b9b2-4e39-b0c3-fea414be9494"
    },
    {
      "cell_type": "code",
      "source": "try:\n    import piplite\n    await piplite.install(['ipywidgets'])\nexcept ImportError:\n    pass\n\nimport ipywidgets as widgets\n\nlen_ = widgets.IntSlider(\n    value=7,\n    min=5,\n    max=20,\n    step=1,\n    description='Длина:',\n    disabled=False,\n    continuous_update=False,\n    orientation='horizontal',\n    readout=True,\n    readout_format='d')\nlen_",
      "metadata": {
        "trusted": true
      },
      "execution_count": null,
      "outputs": [],
      "id": "b30097a8-85df-4b6c-8e7d-69f91b74171f"
    },
    {
      "cell_type": "markdown",
      "source": "<h2 style=\"font-family: 'Times New Roman'\">Скрипт генератора паролей</h2>",
      "metadata": {
        "tags": []
      },
      "id": "e7e05498-ebe3-42be-8e63-a881004bc7c9"
    },
    {
      "cell_type": "code",
      "source": "from os import urandom\nimport pandas as pd\n\nchars = \"ABCDEFGHJKLMNOPQRSTUVWXYZabcdefghjklmnopqrstuvwxyz0123456789_*$\"\npsgen = []\n\n\ndef start_generation(count_password=15, passlen=8):\n    for b in range(0, count_password):\n        psgen.append(generate_temp_password(passlen))\n\n\ndef generate_temp_password(length):\n    \"\"\" Генератор паролей\"\"\"\n    if not isinstance(length, int):\n        raise ValueError(\"temp password must have positive length\")\n        \n    return ''.join([chars[c % len(chars)] for c in urandom(length)])\n\nif __name__ == '__main__':\n    x = start_generation(passlen=len_.value)\n    lst = pd.DataFrame({\"ABCD\": psgen})\n    display(lst)",
      "metadata": {
        "tags": [],
        "trusted": true
      },
      "execution_count": null,
      "outputs": [],
      "id": "7dd2af06-ed54-406a-8756-4ca7b0b7b01d"
    },
    {
      "cell_type": "code",
      "source": "",
      "metadata": {},
      "execution_count": null,
      "outputs": [],
      "id": "42404ad7-3466-42bb-9845-165774306469"
    }
  ]
}
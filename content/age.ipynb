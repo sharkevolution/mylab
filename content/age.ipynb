{
  "metadata": {
    "kernelspec": {
      "name": "python",
      "display_name": "Python (Pyodide)",
      "language": "python"
    },
    "language_info": {
      "codemirror_mode": {
        "name": "python",
        "version": 3
      },
      "file_extension": ".py",
      "mimetype": "text/x-python",
      "name": "python",
      "nbconvert_exporter": "python",
      "pygments_lexer": "ipython3",
      "version": "3.8"
    }
  },
  "nbformat_minor": 5,
  "nbformat": 4,
  "cells": [
    {
      "cell_type": "markdown",
      "source": "<h1 style=\"font-family:Times New Roman;\">Расчет разницы лет от текущей даты</h1>\n\n*Nikolay Sitala 2023, nsitala@ukr.net* ",
      "metadata": {},
      "id": "1e7c0a6f-1be0-488f-828f-ffa8d356aa7b"
    },
    {
      "cell_type": "code",
      "source": "try:\n    import piplite\n    await piplite.install(['ipywidgets'])\nexcept ImportError:\n    pass\n\nimport ipywidgets\n\nborn = ipywidgets.DatePicker(\n    description='Укажите дату рождения',\n    disabled=False,\n    layout = ipywidgets.Layout(width='300px'),\n    style={'description_width': 'initial'}\n)\n\ndisplay(born)",
      "metadata": {
        "trusted": true
      },
      "execution_count": null,
      "outputs": [],
      "id": "5fab3977-3005-4d91-af68-346c1947d296"
    },
    {
      "cell_type": "code",
      "source": "def ageCalculator(y, m, d):\n    import datetime\n    today = datetime.datetime.now().date()\n    dob = datetime.date(y, m, d)\n    age = int((today-dob).days / 365.25)\n    print(f'Разница лет: {age}')\n    \nqdate = born.value\nageCalculator(qdate.year, qdate.month, qdate.day)",
      "metadata": {
        "trusted": true
      },
      "execution_count": null,
      "outputs": [],
      "id": "444a73e8-47b8-43f1-85f7-587959ff9c22"
    },
    {
      "cell_type": "code",
      "source": "",
      "metadata": {},
      "execution_count": null,
      "outputs": [],
      "id": "0b6eb34f-6348-4ae6-89cf-f0d81e56c40e"
    }
  ]
}
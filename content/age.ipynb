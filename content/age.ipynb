{
 "cells": [
  {
   "cell_type": "markdown",
   "id": "1e7c0a6f-1be0-488f-828f-ffa8d356aa7b",
   "metadata": {},
   "source": [
    "<h1 style=\"font-family:Times New Roman;\">Расчет разницы лет от текущей даты</h1>\n",
    "\n",
    "*Nikolay Sitala 2023, nsitala@ukr.net* "
   ]
  },
  {
   "cell_type": "code",
   "execution_count": null,
   "id": "5fab3977-3005-4d91-af68-346c1947d296",
   "metadata": {},
   "outputs": [],
   "source": [
    "import ipywidgets\n",
    "\n",
    "born = ipywidgets.DatePicker(\n",
    "    description='Укажите дату рождения',\n",
    "    disabled=False,\n",
    "    layout = ipywidgets.Layout(width='300px'),\n",
    "    style={'description_width': 'initial'}\n",
    ")\n",
    "\n",
    "display(born)"
   ]
  },
  {
   "cell_type": "code",
   "execution_count": null,
   "id": "444a73e8-47b8-43f1-85f7-587959ff9c22",
   "metadata": {},
   "outputs": [],
   "source": [
    "def ageCalculator(y, m, d):\n",
    "    import datetime\n",
    "    today = datetime.datetime.now().date()\n",
    "    dob = datetime.date(y, m, d)\n",
    "    age = int((today-dob).days / 365.25)\n",
    "    print(f'Разница лет: {age}')\n",
    "  \n",
    "qdate = born.value\n",
    "ageCalculator(qdate.year, qdate.month, qdate.day)"
   ]
  }
 ],
 "metadata": {
  "kernelspec": {
   "display_name": "Python 3 (ipykernel)",
   "language": "python",
   "name": "python3"
  },
  "language_info": {
   "codemirror_mode": {
    "name": "ipython",
    "version": 3
   },
   "file_extension": ".py",
   "mimetype": "text/x-python",
   "name": "python",
   "nbconvert_exporter": "python",
   "pygments_lexer": "ipython3",
   "version": "3.10.8"
  }
 },
 "nbformat": 4,
 "nbformat_minor": 5
}

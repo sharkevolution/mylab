{
  "metadata": {
    "vscode": {
      "interpreter": {
        "hash": "83007bbbf7fc5b73d47dce18a7c1531d7bd7939d40f1d41c180c571c6a7728f4"
      }
    },
    "kernelspec": {
      "name": "python",
      "display_name": "Python (Pyodide)",
      "language": "python"
    },
    "language_info": {
      "codemirror_mode": {
        "name": "python",
        "version": 3
      },
      "file_extension": ".py",
      "mimetype": "text/x-python",
      "name": "python",
      "nbconvert_exporter": "python",
      "pygments_lexer": "ipython3",
      "version": "3.8"
    }
  },
  "nbformat_minor": 5,
  "nbformat": 4,
  "cells": [
    {
      "cell_type": "markdown",
      "source": "<h1 style=\"font-family:Times New Roman;\">Перестановки с повторениями</h1>\n\nBy __[Nikolay Sitala](http://www.linkedin.com/in/николай-ситала-848386172)__<br>\n__[The Precognition](https://sitala.netlify.app)__<br>\n\n*Nikolay Sitala 2022, nsitala@ukr.net* ",
      "metadata": {},
      "id": "207e1930-44cc-4ce4-8a68-63a24aefb79d"
    },
    {
      "cell_type": "markdown",
      "source": "<h2 style=\"font-family: 'Times New Roman'\">Введите слово</h2>\n\n>Ограничение значений для сохранения в Excel **1048576**\n>",
      "metadata": {},
      "id": "f24c3336-b97c-43e3-a5d3-7566766c3c45"
    },
    {
      "cell_type": "code",
      "source": "%pip install -q ipywidgets\n\nimport ipywidgets as widgets\n\nper = widgets.Text(\n        value='WORD',\n        placeholder='Type something',\n        description='String:',\n        disabled=False\n)\ndisplay(per)",
      "metadata": {
        "trusted": true
      },
      "execution_count": null,
      "outputs": [],
      "id": "9167aad2-6834-4c0b-8fa1-72f597455ef2"
    },
    {
      "cell_type": "markdown",
      "source": "<h2 style=\"font-family: 'Times New Roman'\">Скрипт</h2>",
      "metadata": {},
      "id": "4c680927-dc1b-4513-8adf-2d9299e36ce1"
    },
    {
      "cell_type": "code",
      "source": "%pip install -q openpyxl\n\nfrom typing import Optional\nfrom itertools import product\nfrom itertools import permutations\n\nimport pandas as pd\nfrom openpyxl import Workbook\n\nwb = Workbook()\n\n\ndef calc_permutations(text: str) -> None:\n\n    wb = Workbook()\n    ws = wb.active\n\n    arrays = [tuple(b) for b in text]\n    cp = list(product(*arrays))\n    num = len(cp[0])\n    factorial = 1\n\n    for i in range(1, num + 1):\n       factorial = factorial * i\n\n    print(f'Len of the text: {num}', cp,\n        f'\\nPermutations: {factorial}', sep=' | ')\n\n    if factorial > 1048576:\n        print(\"\\nExcel limit exceeded: 1048576. \\nCalculation not completed, \\\n            exit\")\n    else:\n        i = 0\n        st = ''.join(cp[0])\n        for item in permutations(st, len(arrays)):\n            i += 1\n            z = iter([item[0], ''.join(item)])\n            for row in ws.iter_rows(min_row=i, max_col=2, max_row=i):\n                for k in range(0, 2):\n                    row[k].value = next(z)\n\n        print(f'\\nDone!')\n\n        return ws\n        \n\nif __name__ == '__main__':\n    tchar = per.value\n    sheet_openpyxl = calc_permutations(tchar)\n    \n    head_name = ['Letter', 'Permutations']\n    new_df = pd.DataFrame(sheet_openpyxl.values, columns=head_name)\n    ",
      "metadata": {
        "trusted": true
      },
      "execution_count": null,
      "outputs": [],
      "id": "2c937320-b82d-4826-95d1-71280a08bfe7"
    },
    {
      "cell_type": "markdown",
      "source": "<h2 style=\"font-family:Times New Roman\">Скачать перестановки в Excel .xlsx</h2>",
      "metadata": {},
      "id": "6fd6eec3-b701-4a5f-b9fd-96345c961a37"
    },
    {
      "cell_type": "code",
      "source": "import io\nimport base64\nfrom IPython.display import FileLink\nfrom ipywidgets import HTML\nfrom pandas import ExcelFile, ExcelWriter\n\n\ndef create_download_link_excel(df, title = \"Скачать файл с перестановками.xlsx\", filename = \"permutations.xlsx\"):  \n    output = io.BytesIO()\n    with ExcelWriter(output, engine='openpyxl') as writer:\n        df.to_excel(writer, sheet_name='array', index=False)\n    \n    excel_data = output.getvalue()\n    b64 = base64.b64encode(excel_data)\n    payload = b64.decode()\n    \n    html = '<a download=\"{filename}\" href=\"data:text/xml;base64,{payload}\" target=\"_blank\">{title}</a>'\n    html = html.format(payload=payload,title=title,filename=filename)\n    \n    return HTML(html)\n\ncreate_download_link_excel(new_df)",
      "metadata": {
        "trusted": true
      },
      "execution_count": null,
      "outputs": [],
      "id": "39674c8c-a4bc-4c13-9d39-d29576cdc9b8"
    },
    {
      "cell_type": "code",
      "source": "",
      "metadata": {},
      "execution_count": null,
      "outputs": [],
      "id": "c43495d4-ed52-41a7-ac68-30c84649ea65"
    }
  ]
}
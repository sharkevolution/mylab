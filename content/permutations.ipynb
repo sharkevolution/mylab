{
 "cells": [
  {
   "cell_type": "markdown",
   "id": "207e1930-44cc-4ce4-8a68-63a24aefb79d",
   "metadata": {},
   "source": [
    "<h1 style=\"font-family:Times New Roman;\">Перестановки с повторениями</h1>\n",
    "\n",
    "By __[Nikolay Sitala](http://www.linkedin.com/in/николай-ситала-848386172)__<br>\n",
    "__[The Precognition](https://sitala.netlify.app)__<br>\n",
    "\n",
    "*Nikolay Sitala 2022, nsitala@ukr.net* "
   ]
  },
  {
   "cell_type": "markdown",
   "id": "f24c3336-b97c-43e3-a5d3-7566766c3c45",
   "metadata": {},
   "source": [
    "<h2 style=\"font-family: 'Times New Roman'\">Введите слово</h2>\n",
    "\n",
    ">Ограничение значений для сохранения в Excel **1048576**\n",
    ">"
   ]
  },
  {
   "cell_type": "code",
   "execution_count": 1,
   "id": "9167aad2-6834-4c0b-8fa1-72f597455ef2",
   "metadata": {},
   "outputs": [
    {
     "data": {
      "application/vnd.jupyter.widget-view+json": {
       "model_id": "38c2c0e7eac74af8936bfbcea1ff28ec",
       "version_major": 2,
       "version_minor": 0
      },
      "text/plain": [
       "Text(value='WORD', description='String:', placeholder='Type something')"
      ]
     },
     "metadata": {},
     "output_type": "display_data"
    }
   ],
   "source": [
    "import ipywidgets as widgets\n",
    "\n",
    "per = widgets.Text(\n",
    "        value='WORD',\n",
    "        placeholder='Type something',\n",
    "        description='String:',\n",
    "        disabled=False\n",
    ")\n",
    "display(per)"
   ]
  },
  {
   "cell_type": "markdown",
   "id": "4c680927-dc1b-4513-8adf-2d9299e36ce1",
   "metadata": {},
   "source": [
    "<h2 style=\"font-family: 'Times New Roman'\">Скрипт</h2>"
   ]
  },
  {
   "cell_type": "code",
   "execution_count": 2,
   "id": "2c937320-b82d-4826-95d1-71280a08bfe7",
   "metadata": {},
   "outputs": [
    {
     "name": "stdout",
     "output_type": "stream",
     "text": [
      "Len of the text: 4 | [('W', 'O', 'R', 'D')] | \n",
      "Permutations: 24\n",
      "\n",
      "Done!\n"
     ]
    }
   ],
   "source": [
    "from typing import Optional\n",
    "from itertools import product\n",
    "from itertools import permutations\n",
    "\n",
    "import pandas as pd\n",
    "from openpyxl import Workbook\n",
    "\n",
    "wb = Workbook()\n",
    "\n",
    "\n",
    "def calc_permutations(text: str) -> None:\n",
    "\n",
    "    wb = Workbook()\n",
    "    ws = wb.active\n",
    "\n",
    "    arrays = [tuple(b) for b in text]\n",
    "    cp = list(product(*arrays))\n",
    "    num = len(cp[0])\n",
    "    factorial = 1\n",
    "\n",
    "    for i in range(1, num + 1):\n",
    "       factorial = factorial * i\n",
    "\n",
    "    print(f'Len of the text: {num}', cp,\n",
    "        f'\\nPermutations: {factorial}', sep=' | ')\n",
    "\n",
    "    if factorial > 1048576:\n",
    "        print(\"\\nExcel limit exceeded: 1048576. \\nCalculation not completed, \\\n",
    "            exit\")\n",
    "    else:\n",
    "        i = 0\n",
    "        st = ''.join(cp[0])\n",
    "        for item in permutations(st, len(arrays)):\n",
    "            i += 1\n",
    "            z = iter([item[0], ''.join(item)])\n",
    "            for row in ws.iter_rows(min_row=i, max_col=2, max_row=i):\n",
    "                for k in range(0, 2):\n",
    "                    row[k].value = next(z)\n",
    "\n",
    "        print(f'\\nDone!')\n",
    "\n",
    "        return ws\n",
    "        \n",
    "\n",
    "if __name__ == '__main__':\n",
    "    tchar = per.value\n",
    "    sheet_openpyxl = calc_permutations(tchar)\n",
    "    \n",
    "    head_name = ['Letter', 'Permutations']\n",
    "    new_df = pd.DataFrame(sheet_openpyxl.values, columns=head_name)\n",
    "    "
   ]
  },
  {
   "cell_type": "markdown",
   "id": "6fd6eec3-b701-4a5f-b9fd-96345c961a37",
   "metadata": {},
   "source": [
    "<h2 style=\"font-family:Times New Roman\">Скачать перестановки в Excel .xlsx</h2>"
   ]
  },
  {
   "cell_type": "code",
   "execution_count": 5,
   "id": "39674c8c-a4bc-4c13-9d39-d29576cdc9b8",
   "metadata": {},
   "outputs": [
    {
     "data": {
      "application/vnd.jupyter.widget-view+json": {
       "model_id": "91d64cb6a71b4525910eafd0a8cf9e51",
       "version_major": 2,
       "version_minor": 0
      },
      "text/plain": [
       "HTML(value='<a download=\"permutations.xlsx\" href=\"data:text/xml;base64,UEsDBBQAAAAIAGC0hVUHQU1igQAAALEAAAAQAAA…"
      ]
     },
     "execution_count": 5,
     "metadata": {},
     "output_type": "execute_result"
    }
   ],
   "source": [
    "import io\n",
    "import base64\n",
    "from IPython.display import FileLink\n",
    "from ipywidgets import HTML\n",
    "from pandas import ExcelFile, ExcelWriter\n",
    "\n",
    "\n",
    "def create_download_link_excel(df, title = \"Скачать файл с перестановками.xlsx\", filename = \"permutations.xlsx\"):  \n",
    "    output = io.BytesIO()\n",
    "    with ExcelWriter(output, engine='openpyxl') as writer:\n",
    "        df.to_excel(writer, sheet_name='array', index=False)\n",
    "    \n",
    "    excel_data = output.getvalue()\n",
    "    b64 = base64.b64encode(excel_data)\n",
    "    payload = b64.decode()\n",
    "    \n",
    "    html = '<a download=\"{filename}\" href=\"data:text/xml;base64,{payload}\" target=\"_blank\">{title}</a>'\n",
    "    html = html.format(payload=payload,title=title,filename=filename)\n",
    "    \n",
    "    return HTML(html)\n",
    "\n",
    "create_download_link_excel(new_df)"
   ]
  },
  {
   "cell_type": "code",
   "execution_count": null,
   "id": "c43495d4-ed52-41a7-ac68-30c84649ea65",
   "metadata": {},
   "outputs": [],
   "source": []
  }
 ],
 "metadata": {
  "kernelspec": {
   "display_name": "Python 3 (ipykernel)",
   "language": "python",
   "name": "python3"
  },
  "language_info": {
   "codemirror_mode": {
    "name": "ipython",
    "version": 3
   },
   "file_extension": ".py",
   "mimetype": "text/x-python",
   "name": "python",
   "nbconvert_exporter": "python",
   "pygments_lexer": "ipython3",
   "version": "3.10.8"
  },
  "vscode": {
   "interpreter": {
    "hash": "83007bbbf7fc5b73d47dce18a7c1531d7bd7939d40f1d41c180c571c6a7728f4"
   }
  }
 },
 "nbformat": 4,
 "nbformat_minor": 5
}

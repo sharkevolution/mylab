{
 "cells": [
  {
   "cell_type": "markdown",
   "id": "89408aa3-3aaa-4954-85f1-32b7c3b00477",
   "metadata": {},
   "source": [
    "<h1 style=\"font-family:Times New Roman;\">Поиск населенных пунктов по части названия в OpenStreerMap</h1>\n",
    "\n",
    "*Nikolay Sitala 2022, nsitala@ukr.net* \n",
    ">Данные по материалам сайта https://ua.transportica.com"
   ]
  },
  {
   "cell_type": "code",
   "execution_count": null,
   "id": "60247556-2854-4833-bee8-8e1b7b77487d",
   "metadata": {},
   "outputs": [],
   "source": [
    "import ipywidgets as widgets\n",
    "text_ = widgets.Text(\n",
    "    value='Киев',\n",
    "    placeholder='Type something',\n",
    "    description='Поиск подстроки:',\n",
    "    disabled=False,\n",
    "    layout = widgets.Layout(width='300px'),\n",
    "    style={'description_width': 'initial'}\n",
    ")\n",
    "display(text_)"
   ]
  },
  {
   "cell_type": "markdown",
   "id": "8e80e573-28a3-49f9-acbf-e6b5e7ae1ea5",
   "metadata": {},
   "source": [
    "<h2 style=\"font-family: 'Times New Roman'\">Скрипт поиска</h2>"
   ]
  },
  {
   "cell_type": "code",
   "execution_count": null,
   "id": "cf9886a5-a421-4c54-844b-f08dfa12a7af",
   "metadata": {},
   "outputs": [],
   "source": [
    "import pandas as pd\n",
    "import panel as pn\n",
    "import json\n",
    "import asyncio\n",
    "import websockets\n",
    "\n",
    "import nest_asyncio\n",
    "nest_asyncio.apply()\n",
    "\n",
    "pn.extension('perspective')\n",
    "\n",
    "\n",
    "def web_socket():\n",
    "\n",
    "    payload = {\"lang\": \"ua\", \"text\": text_.value, \"country\": \"UA\", \"event\": \"completeCity\", \"requestNumber\": 1}\n",
    "    data = json.dumps(payload)\n",
    "\n",
    "    async def hello():\n",
    "        js = None\n",
    "        async with websockets.connect(\"wss://complete.transportica.com:443\") as websocket:\n",
    "            await websocket.send(data)\n",
    "            return json.loads(await websocket.recv())\n",
    "\n",
    "    js = asyncio.run(hello())\n",
    "    p = [[], [], [], [], [], [], []]\n",
    "\n",
    "    for b in js['data']['result']:\n",
    "        p[0].append(b['osmId'])\n",
    "        p[1].append(b['name'])\n",
    "        p[2].append(b['state'])\n",
    "        p[3].append(b['lat'])\n",
    "        p[4].append(b['lon'])\n",
    "        p[5].append(b['city'])\n",
    "        \n",
    "        admin_level = b['hierarchy']\n",
    "        if len(admin_level) > 1: \n",
    "            p[6].append(admin_level[1]['default'])\n",
    "        else:\n",
    "            p[6].append(None)\n",
    "        \n",
    "    data = {'osmId': p[0], 'city': p[5], 'level': p[6], 'name': p[1], 'state': p[2], 'lat': p[3], 'lon': p[4]}\n",
    "\n",
    "    return data\n",
    "\n",
    "data_ = web_socket()\n",
    "fr = pd.DataFrame.from_dict(data_)\n",
    "pn.pane.Perspective(fr, width=1000, height=600)"
   ]
  },
  {
   "cell_type": "code",
   "execution_count": null,
   "id": "07fc4ef7-a6c5-4858-ac9c-e030220ddc89",
   "metadata": {},
   "outputs": [],
   "source": []
  }
 ],
 "metadata": {
  "kernelspec": {
   "display_name": "Python 3 (ipykernel)",
   "language": "python",
   "name": "python3"
  },
  "language_info": {
   "codemirror_mode": {
    "name": "ipython",
    "version": 3
   },
   "file_extension": ".py",
   "mimetype": "text/x-python",
   "name": "python",
   "nbconvert_exporter": "python",
   "pygments_lexer": "ipython3",
   "version": "3.10.8"
  }
 },
 "nbformat": 4,
 "nbformat_minor": 5
}
